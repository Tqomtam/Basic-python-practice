{
 "cells": [
  {
   "cell_type": "code",
   "execution_count": 1,
   "id": "7d00c683-5326-4471-9275-04e321417cbc",
   "metadata": {},
   "outputs": [
    {
     "name": "stdout",
     "output_type": "stream",
     "text": [
      "600\n"
     ]
    }
   ],
   "source": [
    "number1 = 20\n",
    "number2 = 30\n",
    "print(number1*number2)"
   ]
  },
  {
   "cell_type": "code",
   "execution_count": 4,
   "id": "7ada901e-5b20-4e5e-810d-99f40b3aed18",
   "metadata": {},
   "outputs": [
    {
     "name": "stdout",
     "output_type": "stream",
     "text": [
      "70\n"
     ]
    }
   ],
   "source": [
    "number1 = 40\n",
    "number2 = 30\n",
    "print(number1 + number2)"
   ]
  },
  {
   "cell_type": "code",
   "execution_count": 12,
   "id": "5eadbb2b-98c0-400a-937d-2d35e6b045de",
   "metadata": {},
   "outputs": [
    {
     "name": "stdout",
     "output_type": "stream",
     "text": [
      "current_num is 0 previous number is 0 Sum : 0\n",
      "current_num is 1 previous number is 0 Sum : 1\n",
      "current_num is 2 previous number is 1 Sum : 3\n",
      "current_num is 3 previous number is 2 Sum : 5\n",
      "current_num is 4 previous number is 3 Sum : 7\n",
      "current_num is 5 previous number is 4 Sum : 9\n",
      "current_num is 6 previous number is 5 Sum : 11\n",
      "current_num is 7 previous number is 6 Sum : 13\n",
      "current_num is 8 previous number is 7 Sum : 15\n",
      "current_num is 9 previous number is 8 Sum : 17\n"
     ]
    }
   ],
   "source": [
    "limit = 10\n",
    "for n in range(limit):\n",
    "    if n == 0:\n",
    "        print(f'current_num is {n} previous number is {n} Sum : { n + n}')\n",
    "    else:\n",
    "        print(f'current_num is {n} previous number is {n-1} Sum : { n + (n-1)}')\n",
    "    "
   ]
  },
  {
   "cell_type": "code",
   "execution_count": 16,
   "id": "a7a83905-fe02-4602-aa9e-b749e3298743",
   "metadata": {},
   "outputs": [
    {
     "name": "stdout",
     "output_type": "stream",
     "text": [
      "p\n",
      "y\n",
      "n\n",
      "a\n",
      "t\n",
      "i\n",
      "v\n",
      "e\n"
     ]
    }
   ],
   "source": [
    "for index in range(len('pynative')):\n",
    "    print('pynative'[index])"
   ]
  },
  {
   "cell_type": "code",
   "execution_count": 31,
   "id": "382b2d87-5241-42a2-a5d7-b10ed468b746",
   "metadata": {},
   "outputs": [
    {
     "name": "stdout",
     "output_type": "stream",
     "text": [
      "tive\n"
     ]
    }
   ],
   "source": [
    "def remove_chars(word,n):\n",
    "    reduce = n\n",
    "    if n < len(word):\n",
    "        new_word = word[reduce:]\n",
    "        print(new_word)\n",
    "    else:\n",
    "        print(' n must be less than lenght of string')\n",
    "    \n",
    "remove_chars('pynative',4)"
   ]
  },
  {
   "cell_type": "code",
   "execution_count": 37,
   "id": "7952d0d8-cca9-4567-9994-d3b87248328f",
   "metadata": {},
   "outputs": [
    {
     "name": "stdout",
     "output_type": "stream",
     "text": [
      "result is True\n",
      "result is False\n"
     ]
    }
   ],
   "source": [
    "def check_first_last_num(list):\n",
    "    if list[0] == list[len(list)-1]:\n",
    "        print('result is True')\n",
    "    else:\n",
    "        print('result is False')\n",
    "        \n",
    "list1 = [10, 20, 30, 40, 10]\n",
    "check_first_last_num(list1)\n",
    "\n",
    "list2 = [75, 65, 35, 75, 30]\n",
    "check_first_last_num(list2)"
   ]
  },
  {
   "cell_type": "code",
   "execution_count": 38,
   "id": "2a911db9-ef85-41a4-92a3-64dd4026a21c",
   "metadata": {},
   "outputs": [
    {
     "name": "stdout",
     "output_type": "stream",
     "text": [
      "10\n",
      "20\n",
      "55\n"
     ]
    }
   ],
   "source": [
    "given_list = [10, 20, 33, 46, 55]\n",
    "for index in range(len(given_list)):\n",
    "    if given_list[index] % 5 == 0 :\n",
    "        print(given_list[index])"
   ]
  },
  {
   "cell_type": "code",
   "execution_count": 41,
   "id": "5d2e5978-95b0-4e3f-8291-3aff3d7f7d8c",
   "metadata": {},
   "outputs": [
    {
     "name": "stdout",
     "output_type": "stream",
     "text": [
      "Emma appeared 2 times\n"
     ]
    }
   ],
   "source": [
    "str_x = 'Emma is good developer. Emma is a writer'\n",
    "print(f\"Emma appeared {str_x.count('Emma')} times\")"
   ]
  },
  {
   "cell_type": "code",
   "execution_count": 76,
   "id": "331fb073-aa72-45cf-9112-af5e7b689a1b",
   "metadata": {},
   "outputs": [
    {
     "name": "stdout",
     "output_type": "stream",
     "text": [
      "1\n",
      "22\n",
      "333\n",
      "4444\n",
      "55555\n"
     ]
    }
   ],
   "source": [
    "for outer_n in range(1,6):\n",
    "    for inner_n in range(1,outer_n):\n",
    "        print(outer_n,end='')\n",
    "    print(outer_n)\n",
    "    "
   ]
  },
  {
   "cell_type": "code",
   "execution_count": null,
   "id": "628127b5-bbd4-437d-87df-3f7575d3eab1",
   "metadata": {},
   "outputs": [],
   "source": [
    "#palindrome\n",
    "def palindrome(number):\n",
    "    print(\"original number\", number)\n",
    "    original_num = number\n",
    "    \n",
    "    # reverse the given number\n",
    "    reverse_num = 0\n",
    "    while number > 0:\n",
    "        reminder = number % 10\n",
    "        reverse_num = (reverse_num * 10) + reminder\n",
    "        number = number // 10\n",
    "\n",
    "    # check numbers\n",
    "    if original_num == reverse_num:\n",
    "        print(\"Given number palindrome\")\n",
    "    else:\n",
    "        print(\"Given number is not palindrome\")\n",
    "\n",
    "palindrome(121)\n",
    "palindrome(125)\n",
    "\n"
   ]
  },
  {
   "cell_type": "code",
   "execution_count": 22,
   "id": "cdd0f4b4-e030-4417-a1c6-3f4e3ea1aa2d",
   "metadata": {},
   "outputs": [
    {
     "name": "stdout",
     "output_type": "stream",
     "text": [
      "this number is palindrome\n",
      "this number is palindrome\n"
     ]
    }
   ],
   "source": [
    "#palindrome\n",
    "def palindrome(number):\n",
    "    reverse_num = 0\n",
    "    while number > 0:\n",
    "        digit = number % 10\n",
    "        reverse_number = (reverse_num * 10) + digit\n",
    "        number = number // 10\n",
    "    if number == reverse_num:\n",
    "        print('this number is palindrome')\n",
    "    else:\n",
    "        print('this number is not')\n",
    "        \n",
    "palindrome(125)\n",
    "palindrome(121)"
   ]
  },
  {
   "cell_type": "code",
   "execution_count": 92,
   "id": "17fb0002-a23f-429b-b9e9-de39a0cf64b0",
   "metadata": {},
   "outputs": [
    {
     "name": "stdout",
     "output_type": "stream",
     "text": [
      "result list [25, 35, 40, 60, 90]\n"
     ]
    }
   ],
   "source": [
    "list1 =[10, 20, 25, 30, 35]\n",
    "list2 =[40, 45, 60, 75, 90]\n",
    "def merge_list(list1,list2):\n",
    "    \n",
    "    new_list = []\n",
    "    for index in range(len(list1)):\n",
    "        if list1[index] % 2 != 0:\n",
    "            new_list.append(list1[index])\n",
    "    for index in range(len(list2)):\n",
    "        if list2[index] % 2 == 0:\n",
    "            new_list.append(list2[index])\n",
    "    return new_list\n",
    "\n",
    "print('result list :',merge_list(list1,list2))"
   ]
  },
  {
   "cell_type": "code",
   "execution_count": 94,
   "id": "1690244f-9ced-47b6-8354-f051eae011f4",
   "metadata": {},
   "outputs": [
    {
     "ename": "TypeError",
     "evalue": "object of type 'int' has no len()",
     "output_type": "error",
     "traceback": [
      "\u001b[0;31m---------------------------------------------------------------------------\u001b[0m",
      "\u001b[0;31mTypeError\u001b[0m                                 Traceback (most recent call last)",
      "Cell \u001b[0;32mIn[94], line 5\u001b[0m\n\u001b[1;32m      2\u001b[0m     \u001b[38;5;28;01mfor\u001b[39;00m index \u001b[38;5;129;01min\u001b[39;00m \u001b[38;5;28mrange\u001b[39m(\u001b[38;5;28mlen\u001b[39m(n)):\n\u001b[1;32m      3\u001b[0m         \u001b[38;5;28mprint\u001b[39m(n[\u001b[38;5;28mlen\u001b[39m(n)\u001b[38;5;241m-\u001b[39m\u001b[38;5;241m1\u001b[39m])\n\u001b[0;32m----> 5\u001b[0m \u001b[43mreverse\u001b[49m\u001b[43m(\u001b[49m\u001b[38;5;241;43m7563\u001b[39;49m\u001b[43m)\u001b[49m\n",
      "Cell \u001b[0;32mIn[94], line 2\u001b[0m, in \u001b[0;36mreverse\u001b[0;34m(n)\u001b[0m\n\u001b[1;32m      1\u001b[0m \u001b[38;5;28;01mdef\u001b[39;00m \u001b[38;5;21mreverse\u001b[39m(n):\n\u001b[0;32m----> 2\u001b[0m     \u001b[38;5;28;01mfor\u001b[39;00m index \u001b[38;5;129;01min\u001b[39;00m \u001b[38;5;28mrange\u001b[39m(\u001b[38;5;28;43mlen\u001b[39;49m\u001b[43m(\u001b[49m\u001b[43mn\u001b[49m\u001b[43m)\u001b[49m):\n\u001b[1;32m      3\u001b[0m         \u001b[38;5;28mprint\u001b[39m(n[\u001b[38;5;28mlen\u001b[39m(n)\u001b[38;5;241m-\u001b[39m\u001b[38;5;241m1\u001b[39m])\n",
      "\u001b[0;31mTypeError\u001b[0m: object of type 'int' has no len()"
     ]
    }
   ],
   "source": [
    "number = 7536\n",
    "print(\"Given number\", number)\n",
    "while number > 0:\n",
    "    # get the last digit\n",
    "    digit = number % 10\n",
    "    # remove the last digit and repeat the loop\n",
    "    number = number // 10\n",
    "    print(digit, end=\" \")\n",
    "        "
   ]
  },
  {
   "cell_type": "code",
   "execution_count": 3,
   "id": "69f20e97-2275-452f-9e2b-bec708a57ae4",
   "metadata": {},
   "outputs": [
    {
     "name": "stdout",
     "output_type": "stream",
     "text": [
      "6357"
     ]
    }
   ],
   "source": [
    "number = 7536\n",
    "while number > 0:\n",
    "    digit = number % 10\n",
    "    number = number // 10\n",
    "    print(digit,end='')\n",
    "    "
   ]
  },
  {
   "cell_type": "code",
   "execution_count": 27,
   "id": "cb9a5ef3-cf9c-46c9-807c-3e630401ab98",
   "metadata": {},
   "outputs": [
    {
     "name": "stdout",
     "output_type": "stream",
     "text": [
      "1\n",
      "22\n",
      "333\n",
      "4444\n",
      "55555\n"
     ]
    }
   ],
   "source": [
    "for outer_n in range(1,6):\n",
    "    for inner_n in range(1,outer_n+1):\n",
    "        print(outer_n,end='')\n",
    "    print('')"
   ]
  },
  {
   "cell_type": "code",
   "execution_count": 32,
   "id": "62f4f31e-7c79-465d-8cc7-4476d16262a8",
   "metadata": {},
   "outputs": [
    {
     "name": "stdout",
     "output_type": "stream",
     "text": [
      "543210987"
     ]
    }
   ],
   "source": [
    "number2 = 789012345\n",
    "while number2 > 0:\n",
    "    digit2 = number2 % 10\n",
    "    number2 = number2 // 10\n",
    "    print(digit2,end='')\n"
   ]
  },
  {
   "cell_type": "code",
   "execution_count": 35,
   "id": "c44ab0da-a6cd-4be0-aa0b-202c7d141cc0",
   "metadata": {},
   "outputs": [
    {
     "name": "stdout",
     "output_type": "stream",
     "text": [
      "6000.0\n"
     ]
    }
   ],
   "source": [
    "def income_tax(income):\n",
    "    if income <= 10000:\n",
    "        tax = 10000*0\n",
    "    elif income > 10000 and income <= 20000:\n",
    "        tax = (income-10000)*0.01\n",
    "    else:\n",
    "        tax = ((income-20000)*0.2) + 10000*0.1\n",
    "    return tax\n",
    "\n",
    "income = 45000\n",
    "result = income_tax(income)\n",
    "print(result) "
   ]
  },
  {
   "cell_type": "code",
   "execution_count": 59,
   "id": "42cb7f54-1e72-4df0-af77-de48a280f623",
   "metadata": {},
   "outputs": [
    {
     "name": "stdout",
     "output_type": "stream",
     "text": [
      "12345678910\n",
      "2468101214161820\n",
      "36912151821242730\n",
      "481216202428323640\n",
      "5101520253035404550\n",
      "6121824303642485460\n",
      "7142128354249566370\n",
      "8162432404856647280\n",
      "9182736455463728190\n",
      "102030405060708090100\n"
     ]
    }
   ],
   "source": [
    "for outer_n in range(1,11):\n",
    "    for inner_n in range(1,11):\n",
    "        print(inner_n*outer_n, end='')\n",
    "    print('')\n",
    "    "
   ]
  },
  {
   "cell_type": "code",
   "execution_count": 82,
   "id": "1be6ddfd-b18c-4bd2-96af-0c4242f9f6b0",
   "metadata": {},
   "outputs": [
    {
     "name": "stdout",
     "output_type": "stream",
     "text": [
      "*****\n",
      "****\n",
      "***\n",
      "**\n",
      "*\n",
      "\n"
     ]
    }
   ],
   "source": [
    "for outer_n in range(6,0,-1):\n",
    "    for inner_n in range(0,outer_n-1):\n",
    "        print('*',end ='')\n",
    "    print('')\n",
    "        "
   ]
  },
  {
   "cell_type": "code",
   "execution_count": 91,
   "id": "fe8245f0-98bb-499d-ae62-f16a4a15ae76",
   "metadata": {},
   "outputs": [
    {
     "name": "stdout",
     "output_type": "stream",
     "text": [
      "625\n"
     ]
    }
   ],
   "source": [
    "def exponent(base,exp):\n",
    "    result = 1\n",
    "    while exp > 0:\n",
    "        result = result * base\n",
    "        exp -=1\n",
    "    print(result)\n",
    "\n",
    "exponent(5,4)"
   ]
  },
  {
   "cell_type": "code",
   "execution_count": null,
   "id": "1ea40953-974e-4d95-a699-6be0ab985a46",
   "metadata": {},
   "outputs": [],
   "source": []
  }
 ],
 "metadata": {
  "kernelspec": {
   "display_name": "Python 3 (ipykernel)",
   "language": "python",
   "name": "python3"
  },
  "language_info": {
   "codemirror_mode": {
    "name": "ipython",
    "version": 3
   },
   "file_extension": ".py",
   "mimetype": "text/x-python",
   "name": "python",
   "nbconvert_exporter": "python",
   "pygments_lexer": "ipython3",
   "version": "3.10.9"
  }
 },
 "nbformat": 4,
 "nbformat_minor": 5
}
