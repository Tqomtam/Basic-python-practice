{
 "cells": [
  {
   "cell_type": "code",
   "execution_count": 40,
   "id": "d9b9dec8-7e6b-44d4-a7fd-f878fd3ba21e",
   "metadata": {},
   "outputs": [
    {
     "name": "stdout",
     "output_type": "stream",
     "text": [
      "26.98\n",
      "34.97\n"
     ]
    }
   ],
   "source": [
    "#exercise1 : Booking tickets to the cenema\n",
    "def tickets(number, day, premium_seating):\n",
    "    primary_cost = number * 10.99\n",
    "    if day == 3 :\n",
    "        price_reduce = -2 * number\n",
    "    else :\n",
    "        price_reduce = 0\n",
    "    if premium_seating == True:\n",
    "        extra_cost = 1.5 * number\n",
    "    else:\n",
    "        extra_cost = 0\n",
    "    return primary_cost + price_reduce + extra_cost\n",
    "\n",
    "def refreshment(choice ='popcorn'):\n",
    "    if choice == 'popcorn':\n",
    "        refreshment = 2.0\n",
    "    else:\n",
    "        refreshment = 3.5\n",
    "    return refreshment\n",
    "\n",
    "def cinema_trip(persons, day, premium_seating, treat):\n",
    "    \"\"\" \n",
    "    The total cost of going to the cinema \n",
    "    \n",
    "    Parameters:\n",
    "    ----------\n",
    "    persons: int\n",
    "        number of people who need a ticket\n",
    "        \n",
    "    day: int\n",
    "        day of the week to book (1 = Monday, 7 = Sunday)\n",
    "        \n",
    "    preimum_seating: bool\n",
    "            boolean True/False if premium seats are required\n",
    "            \n",
    "    treat: str\n",
    "        string value representing a choice of refreshment \n",
    "        \n",
    "    Returns:\n",
    "    -------\n",
    "    float\n",
    "    \"\"\"\n",
    "    return tickets(persons, day, premium_seating) + refreshment(treat)\n",
    "\n",
    "persons = 2\n",
    "day = 1\n",
    "premium_seating = True\n",
    "treat = \"popcorn\"\n",
    "total_cost = cinema_trip(persons, day, premium_seating, treat)\n",
    "print(total_cost)\n",
    "\n",
    "persons = 3\n",
    "day = 3\n",
    "premium_seating = True\n",
    "treat = \"fizzy pop\"\n",
    "total_cost = cinema_trip(persons, day, premium_seating, treat)\n",
    "print(total_cost)"
   ]
  },
  {
   "cell_type": "code",
   "execution_count": null,
   "id": "a3c32f83-3036-4952-9e84-2c4faa4b7081",
   "metadata": {},
   "outputs": [],
   "source": []
  }
 ],
 "metadata": {
  "kernelspec": {
   "display_name": "Python 3 (ipykernel)",
   "language": "python",
   "name": "python3"
  },
  "language_info": {
   "codemirror_mode": {
    "name": "ipython",
    "version": 3
   },
   "file_extension": ".py",
   "mimetype": "text/x-python",
   "name": "python",
   "nbconvert_exporter": "python",
   "pygments_lexer": "ipython3",
   "version": "3.10.9"
  }
 },
 "nbformat": 4,
 "nbformat_minor": 5
}
