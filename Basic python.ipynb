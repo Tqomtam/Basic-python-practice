{
 "cells": [
  {
   "cell_type": "code",
   "execution_count": 6,
   "id": "45c0b152-b796-4872-9bc0-aade3468fcab",
   "metadata": {},
   "outputs": [
    {
     "name": "stdout",
     "output_type": "stream",
     "text": [
      "My name is Toomtam, I am 30 year old.\n"
     ]
    }
   ],
   "source": [
    "my_name = \"Toomtam\"\n",
    "my_age = \"30\"\n",
    "\n",
    "text = f\"My name is {my_name}, I am {my_age} year old.\"\n",
    "print(text)"
   ]
  },
  {
   "cell_type": "code",
   "execution_count": 7,
   "id": "21b79968-688f-430e-819a-20c144172703",
   "metadata": {},
   "outputs": [
    {
     "data": {
      "text/plain": [
       "'TOOMTAM IS SO HANDSOM'"
      ]
     },
     "execution_count": 7,
     "metadata": {},
     "output_type": "execute_result"
    }
   ],
   "source": [
    "#.upper\n",
    "text = \"Toomtam is so handsom\"\n",
    "\n",
    "text.upper()"
   ]
  },
  {
   "cell_type": "code",
   "execution_count": 8,
   "id": "118948e2-a467-4809-9061-acf9d49c92fe",
   "metadata": {},
   "outputs": [
    {
     "data": {
      "text/plain": [
       "2"
      ]
     },
     "execution_count": 8,
     "metadata": {},
     "output_type": "execute_result"
    }
   ],
   "source": [
    "#.count\n",
    "text.count(\"a\")"
   ]
  },
  {
   "cell_type": "code",
   "execution_count": 9,
   "id": "e1be3219-ad45-4a72-8177-3eb9f601470e",
   "metadata": {},
   "outputs": [],
   "source": [
    "#replace\n",
    "text2 = text.replace('Toomtam','ToY')"
   ]
  },
  {
   "cell_type": "code",
   "execution_count": 10,
   "id": "ecad1eb8-0630-4ef8-afd9-ec13b6fab7a7",
   "metadata": {},
   "outputs": [
    {
     "name": "stdout",
     "output_type": "stream",
     "text": [
      "Toomtam is so handsom\n",
      "ToY is so handsom\n"
     ]
    }
   ],
   "source": [
    "print(text)\n",
    "print(text2)"
   ]
  },
  {
   "cell_type": "code",
   "execution_count": 13,
   "id": "082bccae-5959-4a0c-993a-50428f8353b2",
   "metadata": {},
   "outputs": [
    {
     "name": "stdout",
     "output_type": "stream",
     "text": [
      "['egg', 'milk', 'bread']\n",
      "milk\n",
      "['egg', 'milk']\n"
     ]
    }
   ],
   "source": [
    "#list\n",
    "shopping_list = ['egg', 'milk', 'bread']\n",
    "print(shopping_list)\n",
    "print(shopping_list[1])\n",
    "print(shopping_list[0:2])"
   ]
  },
  {
   "cell_type": "code",
   "execution_count": 14,
   "id": "86b4fa7f-898b-4bdf-a9ca-8e867658b28c",
   "metadata": {},
   "outputs": [
    {
     "name": "stdout",
     "output_type": "stream",
     "text": [
      "['egg', 'milk', 'bread', 'orange juice']\n"
     ]
    }
   ],
   "source": [
    "#Append\n",
    "shopping_list.append('orange juice')\n",
    "print(shopping_list)"
   ]
  },
  {
   "cell_type": "code",
   "execution_count": 15,
   "id": "f9eb2dba-445f-46f9-aef4-6a4976aaddb4",
   "metadata": {},
   "outputs": [
    {
     "data": {
      "text/plain": [
       "'orange juice'"
      ]
     },
     "execution_count": 15,
     "metadata": {},
     "output_type": "execute_result"
    }
   ],
   "source": [
    "#.pop > to remove the last listed\n",
    "shopping_list.pop()"
   ]
  },
  {
   "cell_type": "code",
   "execution_count": 16,
   "id": "bfbe96d0-eaa5-4a59-9882-6ad82d32f8de",
   "metadata": {},
   "outputs": [
    {
     "name": "stdout",
     "output_type": "stream",
     "text": [
      "['egg', 'milk', 'bread']\n"
     ]
    }
   ],
   "source": [
    "print(shopping_list)"
   ]
  },
  {
   "cell_type": "code",
   "execution_count": 17,
   "id": "6c21a5ab-b5a8-4c67-aa6d-f0db6df2f5c4",
   "metadata": {},
   "outputs": [
    {
     "data": {
      "text/plain": [
       "3"
      ]
     },
     "execution_count": 17,
     "metadata": {},
     "output_type": "execute_result"
    }
   ],
   "source": [
    "#lenght\n",
    "len(shopping_list)"
   ]
  },
  {
   "cell_type": "code",
   "execution_count": 18,
   "id": "437bc503-ca2f-48d6-8e8e-5ff1bc48dc25",
   "metadata": {},
   "outputs": [
    {
     "data": {
      "text/plain": [
       "dict"
      ]
     },
     "execution_count": 18,
     "metadata": {},
     "output_type": "execute_result"
    }
   ],
   "source": [
    "#Dictionary >> {}\n",
    "student = {\n",
    "    'id' : 1,\n",
    "    'name' : 'Toomtam',\n",
    "    'age' : 30,\n",
    "    'movies' : ['spider man', 'Harry potter', 'x-men']\n",
    "}\n",
    "\n",
    "type(student)"
   ]
  },
  {
   "cell_type": "code",
   "execution_count": 19,
   "id": "afb8e7a3-9c64-42b4-a074-d35e8fc62e99",
   "metadata": {},
   "outputs": [
    {
     "data": {
      "text/plain": [
       "'Toomtam'"
      ]
     },
     "execution_count": 19,
     "metadata": {},
     "output_type": "execute_result"
    }
   ],
   "source": [
    "student['name']"
   ]
  },
  {
   "cell_type": "code",
   "execution_count": 20,
   "id": "4a3d2bcb-51ef-4cdf-981d-c49a56d3496b",
   "metadata": {},
   "outputs": [
    {
     "data": {
      "text/plain": [
       "1"
      ]
     },
     "execution_count": 20,
     "metadata": {},
     "output_type": "execute_result"
    }
   ],
   "source": [
    "student['id']"
   ]
  },
  {
   "cell_type": "code",
   "execution_count": 23,
   "id": "a8754d66-1515-4fa9-9145-fd06491580ae",
   "metadata": {},
   "outputs": [
    {
     "data": {
      "text/plain": [
       "'spider man'"
      ]
     },
     "execution_count": 23,
     "metadata": {},
     "output_type": "execute_result"
    }
   ],
   "source": [
    "student['movies'][0]"
   ]
  },
  {
   "cell_type": "code",
   "execution_count": 24,
   "id": "9873a364-c000-4028-a9e0-170a3a9bb9c5",
   "metadata": {},
   "outputs": [],
   "source": [
    "#Add key value\n",
    "student['city'] = ' London'"
   ]
  },
  {
   "cell_type": "code",
   "execution_count": 25,
   "id": "f5688cc6-7aa5-46d6-81e9-d152dfe8fe3e",
   "metadata": {},
   "outputs": [
    {
     "data": {
      "text/plain": [
       "' London'"
      ]
     },
     "execution_count": 25,
     "metadata": {},
     "output_type": "execute_result"
    }
   ],
   "source": [
    "student['city']"
   ]
  },
  {
   "cell_type": "code",
   "execution_count": 26,
   "id": "ca60bad7-1523-4baf-8d8d-f04913dd2cb5",
   "metadata": {},
   "outputs": [],
   "source": [
    "#update value\n",
    "student['city'] = 'Mancehster'"
   ]
  },
  {
   "cell_type": "code",
   "execution_count": 27,
   "id": "5f953f64-dda5-41cc-9821-3f3974624536",
   "metadata": {},
   "outputs": [
    {
     "data": {
      "text/plain": [
       "'Mancehster'"
      ]
     },
     "execution_count": 27,
     "metadata": {},
     "output_type": "execute_result"
    }
   ],
   "source": [
    "student['city']"
   ]
  },
  {
   "cell_type": "code",
   "execution_count": 28,
   "id": "58f45132-96eb-428a-833e-e64d919adc45",
   "metadata": {},
   "outputs": [],
   "source": [
    "#remove key value\n",
    "del student['city']"
   ]
  },
  {
   "cell_type": "code",
   "execution_count": 29,
   "id": "05f7efbb-88d0-4d3d-909f-a6a83faeeb0e",
   "metadata": {},
   "outputs": [
    {
     "ename": "KeyError",
     "evalue": "'city'",
     "output_type": "error",
     "traceback": [
      "\u001b[0;31m---------------------------------------------------------------------------\u001b[0m",
      "\u001b[0;31mKeyError\u001b[0m                                  Traceback (most recent call last)",
      "Cell \u001b[0;32mIn[29], line 1\u001b[0m\n\u001b[0;32m----> 1\u001b[0m \u001b[43mstudent\u001b[49m\u001b[43m[\u001b[49m\u001b[38;5;124;43m'\u001b[39;49m\u001b[38;5;124;43mcity\u001b[39;49m\u001b[38;5;124;43m'\u001b[39;49m\u001b[43m]\u001b[49m\n",
      "\u001b[0;31mKeyError\u001b[0m: 'city'"
     ]
    }
   ],
   "source": [
    "student['city']"
   ]
  },
  {
   "cell_type": "code",
   "execution_count": 31,
   "id": "2f6430c9-7ee7-4ec7-81ad-1a289804f958",
   "metadata": {},
   "outputs": [
    {
     "name": "stdout",
     "output_type": "stream",
     "text": [
      "Hello\n",
      "I am learning python\n"
     ]
    }
   ],
   "source": [
    "#User_defined_function\n",
    "def hello():\n",
    "    print('Hello')\n",
    "    print('I am learning python')\n",
    "    \n",
    "hello()"
   ]
  },
  {
   "cell_type": "code",
   "execution_count": 34,
   "id": "1789b9fc-79c6-4018-b230-3858bb9c4451",
   "metadata": {},
   "outputs": [
    {
     "name": "stdout",
     "output_type": "stream",
     "text": [
      "Hello Toomtam\n"
     ]
    }
   ],
   "source": [
    "#Function with input\n",
    "def hello(username):\n",
    "    print('Hello '+ username)\n",
    "    \n",
    "hello('Toomtam')\n",
    "    "
   ]
  },
  {
   "cell_type": "code",
   "execution_count": 37,
   "id": "4b61cdcc-7037-4dba-a7ee-78a22a44fbb2",
   "metadata": {},
   "outputs": [
    {
     "name": "stdout",
     "output_type": "stream",
     "text": [
      "Hello Toomtam.\n"
     ]
    }
   ],
   "source": [
    "#Function with input\n",
    "def hello(username):\n",
    "    text = f'Hello {username}.'\n",
    "    print(text)\n",
    "\n",
    "    \n",
    "hello('Toomtam')\n",
    "    "
   ]
  },
  {
   "cell_type": "code",
   "execution_count": 39,
   "id": "07b0fa2f-4bc8-47a4-b1b1-023f6644e6ef",
   "metadata": {},
   "outputs": [
    {
     "name": "stdout",
     "output_type": "stream",
     "text": [
      "15\n"
     ]
    }
   ],
   "source": [
    "#Function with multiple input\n",
    "def my_sum(val1,val2):\n",
    "    print(val1+val2)\n",
    "   \n",
    "my_sum(5,10)\n"
   ]
  },
  {
   "cell_type": "code",
   "execution_count": 42,
   "id": "93a64b1d-8feb-4813-ae51-9127863b672c",
   "metadata": {},
   "outputs": [
    {
     "name": "stdout",
     "output_type": "stream",
     "text": [
      "15\n"
     ]
    }
   ],
   "source": [
    "#Function with multiple input\n",
    "def my_sum(val1,val2):\n",
    "    return val1+val2 #ใช้ return แทน print จะได้ฝากค่าได้ ละเอาไปใช้กับสูตรอื่นได้\n",
    "   \n",
    "result = my_sum(5,10)\n",
    "\n",
    "print(result)"
   ]
  },
  {
   "cell_type": "code",
   "execution_count": 78,
   "id": "33a86b84-9a9f-4ef6-99b5-e1194dbc1601",
   "metadata": {},
   "outputs": [
    {
     "data": {
      "text/plain": [
       "__main__.Dog"
      ]
     },
     "execution_count": 78,
     "metadata": {},
     "output_type": "execute_result"
    }
   ],
   "source": [
    "#OOP = object oriented programming\n",
    "class Dog:\n",
    "    name = 'Toomtam'\n",
    "    age = 5\n",
    "    color = 'Brown'\n",
    "    breed = 'puddle'\n",
    "    #Function(Dog method)\n",
    "    def sitting(self):\n",
    "        print('I am sitting now')\n",
    "    def hungry(self,food_name):\n",
    "        print(f'I am hungry, I need {food_name}!')\n",
    "\n",
    "my_dog = Dog()\n",
    "type(my_dog)  "
   ]
  },
  {
   "cell_type": "code",
   "execution_count": 52,
   "id": "8de8adba-4468-49d7-ab0d-da6f205220f5",
   "metadata": {},
   "outputs": [
    {
     "data": {
      "text/plain": [
       "'Toomtam'"
      ]
     },
     "execution_count": 52,
     "metadata": {},
     "output_type": "execute_result"
    }
   ],
   "source": [
    "my_dog.name"
   ]
  },
  {
   "cell_type": "code",
   "execution_count": 53,
   "id": "5a61da42-c39a-4df7-a6cf-fce6a21c5133",
   "metadata": {},
   "outputs": [
    {
     "data": {
      "text/plain": [
       "5"
      ]
     },
     "execution_count": 53,
     "metadata": {},
     "output_type": "execute_result"
    }
   ],
   "source": [
    "my_dog.age"
   ]
  },
  {
   "cell_type": "code",
   "execution_count": 79,
   "id": "a3955c3c-68dd-4d21-a001-912db98d819c",
   "metadata": {},
   "outputs": [
    {
     "name": "stdout",
     "output_type": "stream",
     "text": [
      "I am sitting now\n"
     ]
    }
   ],
   "source": [
    "my_dog.sitting()"
   ]
  },
  {
   "cell_type": "code",
   "execution_count": 80,
   "id": "1cbab833-7288-4e98-a922-6733e0761794",
   "metadata": {},
   "outputs": [
    {
     "name": "stdout",
     "output_type": "stream",
     "text": [
      "8000.0\n"
     ]
    }
   ],
   "source": [
    "#Basic_Python\n",
    "salary = 10000\n",
    "tax_rate = 0.2\n",
    "salary_after_tax = salary * (1-tax_rate)\n",
    "print(salary_after_tax)"
   ]
  },
  {
   "cell_type": "code",
   "execution_count": 81,
   "id": "8e78565a-1b1d-40ed-8a2b-ff6785d0c4c6",
   "metadata": {},
   "outputs": [
    {
     "name": "stdout",
     "output_type": "stream",
     "text": [
      "Hello world\n"
     ]
    }
   ],
   "source": [
    "#Print\n",
    "print('Hello world')"
   ]
  },
  {
   "cell_type": "code",
   "execution_count": 82,
   "id": "d79e0eaa-6ab8-41bb-b7e0-54f9a8b7bcb7",
   "metadata": {},
   "outputs": [
    {
     "name": "stdout",
     "output_type": "stream",
     "text": [
      "2\n"
     ]
    }
   ],
   "source": [
    "simple_sum = 1 + 1\n",
    "print(simple_sum)"
   ]
  },
  {
   "cell_type": "code",
   "execution_count": 83,
   "id": "3f175fdb-8aca-435c-90b2-e9f80b36cdaa",
   "metadata": {},
   "outputs": [
    {
     "data": {
      "text/plain": [
       "2"
      ]
     },
     "execution_count": 83,
     "metadata": {},
     "output_type": "execute_result"
    }
   ],
   "source": [
    "5//2"
   ]
  },
  {
   "cell_type": "code",
   "execution_count": 84,
   "id": "1457301c-611f-406c-98b4-c7ca9d157a68",
   "metadata": {},
   "outputs": [
    {
     "data": {
      "text/plain": [
       "2.5"
      ]
     },
     "execution_count": 84,
     "metadata": {},
     "output_type": "execute_result"
    }
   ],
   "source": [
    "5/2"
   ]
  },
  {
   "cell_type": "code",
   "execution_count": 91,
   "id": "c9efe969-ac37-4797-b888-83c62a58c0d9",
   "metadata": {},
   "outputs": [
    {
     "data": {
      "text/plain": [
       "1"
      ]
     },
     "execution_count": 91,
     "metadata": {},
     "output_type": "execute_result"
    }
   ],
   "source": [
    "5 % 2"
   ]
  },
  {
   "cell_type": "code",
   "execution_count": 93,
   "id": "2fb44909-91df-4449-a947-8d9fdb2d0968",
   "metadata": {},
   "outputs": [
    {
     "data": {
      "text/plain": [
       "4"
      ]
     },
     "execution_count": 93,
     "metadata": {},
     "output_type": "execute_result"
    }
   ],
   "source": [
    "2 ** 2"
   ]
  },
  {
   "cell_type": "code",
   "execution_count": 94,
   "id": "f979b981-7fc9-4a07-a0fd-3f4c69685ae3",
   "metadata": {},
   "outputs": [
    {
     "name": "stdout",
     "output_type": "stream",
     "text": [
      "100\n"
     ]
    }
   ],
   "source": [
    "x = 10\n",
    "y = 2\n",
    "z = x ** y\n",
    "print(z)"
   ]
  },
  {
   "cell_type": "code",
   "execution_count": 95,
   "id": "f1e7b451-ab96-4139-bfbc-938f273701fb",
   "metadata": {},
   "outputs": [
    {
     "name": "stdout",
     "output_type": "stream",
     "text": [
      "-10\n"
     ]
    }
   ],
   "source": [
    "bar = 10\n",
    "foo = -bar\n",
    "print(foo)"
   ]
  },
  {
   "cell_type": "code",
   "execution_count": 102,
   "id": "efb12ede-23e6-4d8c-a936-ba7ab98c8847",
   "metadata": {},
   "outputs": [
    {
     "name": "stdout",
     "output_type": "stream",
     "text": [
      "<class 'bool'>\n",
      "<class 'bool'>\n",
      "<class 'float'>\n",
      "<class 'int'>\n"
     ]
    }
   ],
   "source": [
    "foo = True\n",
    "bar = False\n",
    "spam = 3.142\n",
    "eggs = 1000000\n",
    "\n",
    "print(type(foo))\n",
    "print(type(bar))\n",
    "print(type(spam))\n",
    "print(type(eggs))"
   ]
  },
  {
   "cell_type": "code",
   "execution_count": 105,
   "id": "a6a407aa-48af-4f07-bcd1-0a6ce3025edb",
   "metadata": {},
   "outputs": [
    {
     "name": "stdout",
     "output_type": "stream",
     "text": [
      "['dog', 'cat']\n"
     ]
    }
   ],
   "source": [
    "#insert\n",
    "foo = []\n",
    "foo.append('dog')\n",
    "foo.append('cat')\n",
    "print(foo)"
   ]
  },
  {
   "cell_type": "code",
   "execution_count": 106,
   "id": "cfd6e427-f8cf-4409-870d-45540e8bfac3",
   "metadata": {},
   "outputs": [],
   "source": [
    "foo.insert(0,'cow')"
   ]
  },
  {
   "cell_type": "code",
   "execution_count": 107,
   "id": "ee68c93f-7161-41b6-8831-93be4c28325c",
   "metadata": {},
   "outputs": [
    {
     "name": "stdout",
     "output_type": "stream",
     "text": [
      "['cow', 'dog', 'cat']\n"
     ]
    }
   ],
   "source": [
    "print(foo)"
   ]
  },
  {
   "cell_type": "code",
   "execution_count": 108,
   "id": "5892cffa-b0e9-4730-83c1-65ca7241b216",
   "metadata": {},
   "outputs": [],
   "source": [
    "del foo[0] # remove specific index"
   ]
  },
  {
   "cell_type": "code",
   "execution_count": 109,
   "id": "db2e2eb7-2f6b-4dc5-a731-62b5d397767c",
   "metadata": {},
   "outputs": [
    {
     "name": "stdout",
     "output_type": "stream",
     "text": [
      "['dog', 'cat']\n"
     ]
    }
   ],
   "source": [
    "print(foo)"
   ]
  },
  {
   "cell_type": "code",
   "execution_count": 110,
   "id": "4f9a5311-d10f-45a0-a9b9-e22be3bc1cd5",
   "metadata": {},
   "outputs": [
    {
     "data": {
      "text/plain": [
       "'cat'"
      ]
     },
     "execution_count": 110,
     "metadata": {},
     "output_type": "execute_result"
    }
   ],
   "source": [
    "foo.pop() # remove the last listed"
   ]
  },
  {
   "cell_type": "code",
   "execution_count": 111,
   "id": "8a24522f-728b-4205-ac29-289bcc83336e",
   "metadata": {},
   "outputs": [],
   "source": [
    "foo.remove('dog') # remove specific value"
   ]
  },
  {
   "cell_type": "code",
   "execution_count": 112,
   "id": "3b6df00f-1b05-4e3f-a96c-d123d43296aa",
   "metadata": {},
   "outputs": [
    {
     "name": "stdout",
     "output_type": "stream",
     "text": [
      "[]\n"
     ]
    }
   ],
   "source": [
    "print(foo)"
   ]
  },
  {
   "cell_type": "code",
   "execution_count": 113,
   "id": "c8644c23-2c2e-4af7-be2b-cb25eb0480a2",
   "metadata": {},
   "outputs": [
    {
     "name": "stdout",
     "output_type": "stream",
     "text": [
      "[1, 2, 3, 4, 5]\n",
      "(1, 2, 3, 4, 5)\n"
     ]
    }
   ],
   "source": [
    "#tuple is immutable\n",
    "foo = [1, 2, 3, 4, 5]\n",
    "bar = (1, 2, 3, 4, 5)\n",
    "print(foo)\n",
    "print(bar)"
   ]
  },
  {
   "cell_type": "code",
   "execution_count": 114,
   "id": "1f01cf27-c836-4b4c-837b-ad8b08c7198f",
   "metadata": {},
   "outputs": [],
   "source": [
    "foo[1] = 999"
   ]
  },
  {
   "cell_type": "code",
   "execution_count": 116,
   "id": "ddcca7f3-555f-414b-a7dc-773a1bf44051",
   "metadata": {},
   "outputs": [
    {
     "name": "stdout",
     "output_type": "stream",
     "text": [
      "[1, 999, 3, 4, 5]\n"
     ]
    }
   ],
   "source": [
    "print(foo)"
   ]
  },
  {
   "cell_type": "code",
   "execution_count": 117,
   "id": "df787cab-36b6-4eb7-8f01-85b15a68a4a3",
   "metadata": {},
   "outputs": [
    {
     "ename": "TypeError",
     "evalue": "'tuple' object does not support item assignment",
     "output_type": "error",
     "traceback": [
      "\u001b[0;31m---------------------------------------------------------------------------\u001b[0m",
      "\u001b[0;31mTypeError\u001b[0m                                 Traceback (most recent call last)",
      "Cell \u001b[0;32mIn[117], line 1\u001b[0m\n\u001b[0;32m----> 1\u001b[0m bar[\u001b[38;5;241m1\u001b[39m] \u001b[38;5;241m=\u001b[39m \u001b[38;5;241m999\u001b[39m\n",
      "\u001b[0;31mTypeError\u001b[0m: 'tuple' object does not support item assignment"
     ]
    }
   ],
   "source": [
    "bar[1] = 999 #tuple is immutable"
   ]
  },
  {
   "cell_type": "code",
   "execution_count": 118,
   "id": "aabbbf1a-05ee-4ae9-a8df-6f4ec7899c3a",
   "metadata": {},
   "outputs": [],
   "source": [
    "import random as rnd ##### import funtion"
   ]
  },
  {
   "cell_type": "code",
   "execution_count": 123,
   "id": "503b565b-b2c8-4e70-93e0-836a4e2523bd",
   "metadata": {},
   "outputs": [
    {
     "name": "stdout",
     "output_type": "stream",
     "text": [
      "I generate a random integer 87\n"
     ]
    }
   ],
   "source": [
    "u = rnd.randint(1,100)\n",
    "print(f'I generate a random integer {u}')"
   ]
  },
  {
   "cell_type": "code",
   "execution_count": 124,
   "id": "6ef174cd-799b-4b7b-ab09-ded02c5b3f5a",
   "metadata": {},
   "outputs": [],
   "source": [
    "from random import randint, gauss"
   ]
  },
  {
   "cell_type": "code",
   "execution_count": 136,
   "id": "01ee8e3c-b695-4bb0-a3cc-0122512edbe3",
   "metadata": {},
   "outputs": [
    {
     "name": "stdout",
     "output_type": "stream",
     "text": [
      "I sample from a random int 5 and a normal distributed value 0.6995980309636171\n"
     ]
    }
   ],
   "source": [
    "u1 = randint(1,100)\n",
    "u2 = gauss(0,1)\n",
    "print(f'I sample from a random int {u1} and a normal distributed value {u2}')"
   ]
  },
  {
   "cell_type": "code",
   "execution_count": 140,
   "id": "63590118-414b-402f-83dc-5377d0430a2f",
   "metadata": {},
   "outputs": [
    {
     "name": "stdout",
     "output_type": "stream",
     "text": [
      "68.0\n",
      "50.0\n"
     ]
    }
   ],
   "source": [
    "deg_celsius = 20\n",
    "fahrenheit = 9.0/5.0 * deg_celsius + 32\n",
    "print(fahrenheit)\n",
    "\n",
    "deg_celsius = 10\n",
    "fahrenheit =9.0/5.0 * deg_celsius + 32\n",
    "print(fahrenheit)"
   ]
  },
  {
   "cell_type": "code",
   "execution_count": 147,
   "id": "23a6a369-d9e5-426d-b561-803ef98e1313",
   "metadata": {},
   "outputs": [
    {
     "name": "stdout",
     "output_type": "stream",
     "text": [
      "20 degree celsius equal to 68.0 degree fahrenheit.\n"
     ]
    }
   ],
   "source": [
    "#function\n",
    "def convert_celsius_to_fahrenheit(deg_celsius):\n",
    "    fahrenheit = 9.0/5.0 * deg_celsius + 32\n",
    "    print(f'{deg_celsius} degree celsius equal to {fahrenheit} degree fahrenheit.')\n",
    "    \n",
    "convert_celsius_to_fahrenheit(20)"
   ]
  },
  {
   "cell_type": "code",
   "execution_count": 163,
   "id": "359afc00-4bba-4717-997d-eedacb6c9c20",
   "metadata": {},
   "outputs": [
    {
     "name": "stdout",
     "output_type": "stream",
     "text": [
      "71.6\n"
     ]
    }
   ],
   "source": [
    "#function\n",
    "def convert_celsius_to_fahrenheit(deg_celsius):\n",
    "    deg_fahrenheit = 9.0/5.0 * deg_celsius + 32\n",
    "    return deg_fahrenheit\n",
    "   \n",
    "fahrenheit = convert_celsius_to_fahrenheit(22)\n",
    "print(fahrenheit)"
   ]
  },
  {
   "cell_type": "code",
   "execution_count": 164,
   "id": "26d18eb5-583b-4d83-9324-7e2dc68d222b",
   "metadata": {},
   "outputs": [],
   "source": [
    "from math import pi"
   ]
  },
  {
   "cell_type": "code",
   "execution_count": 165,
   "id": "2ecd6051-5933-4f78-b22b-fb608c4f4333",
   "metadata": {},
   "outputs": [
    {
     "data": {
      "text/plain": [
       "78.53981633974483"
      ]
     },
     "execution_count": 165,
     "metadata": {},
     "output_type": "execute_result"
    }
   ],
   "source": [
    "def area_of_circle(radius):\n",
    "    area = pi * radius ** 2\n",
    "    return area\n",
    "\n",
    "area_of_circle(5)"
   ]
  },
  {
   "cell_type": "code",
   "execution_count": 195,
   "id": "9fef06bc-5a7a-4008-a2b9-fde42e9215ad",
   "metadata": {},
   "outputs": [
    {
     "name": "stdout",
     "output_type": "stream",
     "text": [
      "(15, 5, 3.0)\n",
      " the value 'result': (15, 5, 3.0) has type <class 'tuple'>\n",
      "separate variable : sum 15, length 5, mean 3.0\n"
     ]
    }
   ],
   "source": [
    "def list_info(data):\n",
    "    list_sum = sum(data)\n",
    "    list_length = len(data)\n",
    "    list_mean = list_sum / list_length\n",
    "    return list_sum, list_length, list_mean\n",
    "\n",
    "data = [1, 2, 3, 4, 5]\n",
    "\n",
    "result = list_info(data)\n",
    "print(result)\n",
    "print(f\" the value 'result': {result} has type {type(result)}\")\n",
    "\n",
    "data_sum, data_length, data_mean = list_info(data)\n",
    "print(f'separate variable : sum {data_sum}, length {data_length}, mean {data_mean}')\n"
   ]
  },
  {
   "cell_type": "code",
   "execution_count": 201,
   "id": "cbaf98f7-f646-458c-b8d0-99df6599020c",
   "metadata": {},
   "outputs": [
    {
     "name": "stdout",
     "output_type": "stream",
     "text": [
      "(15, 5, 3.0)\n",
      " the value 'result': (15, 5, 3.0) has type <class 'tuple'>\n",
      "separate variable : sum 15, length 5, mean 3.0\n"
     ]
    }
   ],
   "source": [
    "def list_info(data):\n",
    "    list_sum = sum(data)\n",
    "    list_length = len(data)\n",
    "    list_mean = list_sum / list_length\n",
    "    return list_sum, list_length, list_mean\n",
    "\n",
    "data = [1, 2, 3, 4, 5]\n",
    "\n",
    "result = list_info(data)\n",
    "print(result)\n",
    "print(f\" the value 'result': {result} has type {type(result)}\")\n",
    "print(f'separate variable : sum {data_sum}, length {data_length}, mean {data_mean}')\n"
   ]
  },
  {
   "cell_type": "code",
   "execution_count": null,
   "id": "68fdfb56-03a9-45b2-87ea-0cdc4954275a",
   "metadata": {},
   "outputs": [],
   "source": [
    "#Boolean operators\n",
    "a == b\n",
    "a != b\n",
    "a <= b\n",
    "a >= b\n",
    "a < b\n",
    "a > b"
   ]
  },
  {
   "cell_type": "code",
   "execution_count": 202,
   "id": "7645350e-6ca0-4c8d-9c79-e5beac07caf8",
   "metadata": {},
   "outputs": [
    {
     "name": "stdout",
     "output_type": "stream",
     "text": [
      "False\n",
      "True\n",
      "True\n"
     ]
    }
   ],
   "source": [
    "age = 25\n",
    "print(age >= 40)\n",
    "print(age < 40)\n",
    "print(age == 25)"
   ]
  },
  {
   "cell_type": "code",
   "execution_count": 203,
   "id": "7b04337d-0670-40ed-9a48-65230775f040",
   "metadata": {},
   "outputs": [
    {
     "name": "stdout",
     "output_type": "stream",
     "text": [
      "Number > 2!\n"
     ]
    }
   ],
   "source": [
    "#conditional logic\n",
    "number = 5\n",
    "if number > 2:\n",
    "    print('Number > 2!')\n",
    "else:\n",
    "    print('Number <= 2')"
   ]
  },
  {
   "cell_type": "code",
   "execution_count": 204,
   "id": "bc8e3ca8-7040-4622-a92a-6838d3c5537a",
   "metadata": {},
   "outputs": [
    {
     "name": "stdout",
     "output_type": "stream",
     "text": [
      "number is inside range\n"
     ]
    }
   ],
   "source": [
    "#more complex if then\n",
    "lower_limit = 10\n",
    "upper_limit = 15\n",
    "\n",
    "number_to_check = 12\n",
    "if number_to_check >= lower_limit and number_to_check <= upper_limit:\n",
    "    print('number is inside range')\n",
    "else:\n",
    "    print('number is outside range')"
   ]
  },
  {
   "cell_type": "code",
   "execution_count": 205,
   "id": "88e7bee5-66f0-4fc9-bc39-cf7252ad5b85",
   "metadata": {},
   "outputs": [
    {
     "name": "stdout",
     "output_type": "stream",
     "text": [
      "There are 36 years until you can draw your pension!\n"
     ]
    }
   ],
   "source": [
    "#elif\n",
    "age = 32\n",
    "pensionable_age = 68\n",
    "\n",
    "if age < 0:\n",
    "    print('Error. Please enter an age greater than zero')\n",
    "elif age < pensionable_age:\n",
    "    years_to_pensionable = pensionable_age - age\n",
    "    print(f'There are {years_to_pensionable} years until you can draw your pension!')\n",
    "else:\n",
    "    print('You are eligible to draw your pension')"
   ]
  },
  {
   "cell_type": "code",
   "execution_count": 207,
   "id": "1071c15e-6750-4763-bbd1-ce7a8e3292dd",
   "metadata": {},
   "outputs": [
    {
     "name": "stdout",
     "output_type": "stream",
     "text": [
      "There are 36 years until you can draw your pension!\n"
     ]
    }
   ],
   "source": [
    "#elif\n",
    "age = 32\n",
    "pensionable_age = 68\n",
    "\n",
    "if age < 0:\n",
    "    print('Error. Please enter an age greater than zero')\n",
    "elif age < pensionable_age:\n",
    "    print(f'There are {pensionable_age - age} years until you can draw your pension!')\n",
    "else:\n",
    "    print('You are eligible to draw your pension')"
   ]
  },
  {
   "cell_type": "code",
   "execution_count": 208,
   "id": "c8c4392b-9de5-4284-96cc-ea53530a8f88",
   "metadata": {},
   "outputs": [],
   "source": [
    "#function and if statement\n",
    "def eligible_for_pension(age):\n",
    "    return age >= 68"
   ]
  },
  {
   "cell_type": "code",
   "execution_count": 212,
   "id": "934e07c7-77fa-418a-90fc-3835db8cb5e3",
   "metadata": {},
   "outputs": [
    {
     "name": "stdout",
     "output_type": "stream",
     "text": [
      "Congratulation! you can retire!\n"
     ]
    }
   ],
   "source": [
    "age = 68\n",
    "\n",
    "if eligible_for_pension(age):\n",
    "    print('Congratulation! you can retire!')\n",
    "else :\n",
    "    print('You are not yet eligible for your pension')"
   ]
  },
  {
   "cell_type": "code",
   "execution_count": 213,
   "id": "811852e8-0093-4509-9fcf-d396039e6d3a",
   "metadata": {},
   "outputs": [
    {
     "name": "stdout",
     "output_type": "stream",
     "text": [
      "Congratulation! you can retire!\n"
     ]
    }
   ],
   "source": [
    "#if not\n",
    "age = 68\n",
    "if not eligible_for_pension(age):\n",
    "    print('You are not yet eligible for your pension')\n",
    "else:\n",
    "    print('Congratulation! you can retire!')"
   ]
  },
  {
   "cell_type": "code",
   "execution_count": 214,
   "id": "44c1e906-21a2-4854-90a1-cb2bcf8a08e1",
   "metadata": {},
   "outputs": [],
   "source": [
    "#Nested(ซ้อน) if statements\n",
    "def stamp_duty(house_price, first_time_buyer):\n",
    "    if first_time_buyer:\n",
    "        #this if statment is nested within the first\n",
    "        if house_price <= 300000:\n",
    "            return 0.0\n",
    "        else:\n",
    "            return house_price * 0.05\n",
    "    else:\n",
    "        if house_price < 125000:\n",
    "            return 0.0\n",
    "        else:\n",
    "            return house_price * 0.05"
   ]
  },
  {
   "cell_type": "code",
   "execution_count": 217,
   "id": "9c4d3172-1e88-446a-ade9-401909de5931",
   "metadata": {},
   "outputs": [
    {
     "name": "stdout",
     "output_type": "stream",
     "text": [
      "stamp duty owed = ฿15500.0\n",
      "15500.0\n"
     ]
    }
   ],
   "source": [
    "my_first_house_price = 310000\n",
    "owed = stamp_duty(my_first_house_price,True)\n",
    "print('stamp duty owed = ฿{0}'.format(owed)) #.format\n",
    "print(owed)"
   ]
  },
  {
   "cell_type": "code",
   "execution_count": 218,
   "id": "841a6577-af64-417c-b5e9-aa1cd8347ed7",
   "metadata": {},
   "outputs": [
    {
     "name": "stdout",
     "output_type": "stream",
     "text": [
      "you are curently 15 years old\n",
      "you are curently 16 years old\n",
      "you are curently 17 years old\n",
      "you are curently 18 years old\n"
     ]
    }
   ],
   "source": [
    "#for loop : if we know the number of iteration in advance\n",
    "#while loop : if we do not know the number of iteration in advance\n",
    "\n",
    "#while loop follow by boolean\n",
    "age = 15\n",
    "\n",
    "while age <=18:   # age <= 18 is boolean\n",
    "    print(f'you are curently {age} years old')\n",
    "    age += 1"
   ]
  },
  {
   "cell_type": "code",
   "execution_count": 219,
   "id": "f820e5bb-592c-459d-95b2-72e1511e0c4c",
   "metadata": {},
   "outputs": [],
   "source": [
    "def fizzbuzz(n):\n",
    "    if n % 3 == 0 and n % 5 == 0:\n",
    "        print('fizzbuzz')\n",
    "    elif n % 3 == 0:\n",
    "        print('fizz')\n",
    "    elif n % 5 == 0:\n",
    "        print('buzz')\n",
    "    else:\n",
    "        print(n)"
   ]
  },
  {
   "cell_type": "code",
   "execution_count": 221,
   "id": "52d5db8d-5290-42e3-af84-7e3cc7b4b70c",
   "metadata": {},
   "outputs": [
    {
     "name": "stdout",
     "output_type": "stream",
     "text": [
      "1\n",
      "2\n",
      "fizz\n",
      "4\n",
      "buzz\n",
      "fizz\n",
      "7\n",
      "8\n",
      "fizz\n",
      "buzz\n",
      "11\n",
      "fizz\n",
      "13\n",
      "14\n",
      "fizzbuzz\n"
     ]
    }
   ],
   "source": [
    "n = 1\n",
    "limit = 15 #beware of infinite loops!\n",
    "\n",
    "while n <= limit:\n",
    "    fizzbuzz(n)\n",
    "    n += 1"
   ]
  },
  {
   "cell_type": "code",
   "execution_count": 225,
   "id": "610db30e-0167-4d76-bb2d-875f4fdbb1fa",
   "metadata": {},
   "outputs": [
    {
     "name": "stdout",
     "output_type": "stream",
     "text": [
      "the word 'knight' is located in index 3\n"
     ]
    }
   ],
   "source": [
    "list_to_search = ['we', 'are', 'the', 'knight', 'who', 'say', 'ni']\n",
    "not_found = True\n",
    "word_to_find = 'knight'\n",
    "current_index = 0\n",
    "index_of_word = -1 #ใส่มาทำไม\n",
    "\n",
    "while not_found:\n",
    "    if list_to_search[current_index] == word_to_find:\n",
    "        not_found = False\n",
    "        index_of_word = current_index\n",
    "    current_index += 1\n",
    "print(f\"the word '{word_to_find}' is located in index {index_of_word}\")"
   ]
  },
  {
   "cell_type": "code",
   "execution_count": 238,
   "id": "652ebb39-9aae-445c-9771-b57b07a3bc4c",
   "metadata": {},
   "outputs": [
    {
     "name": "stdout",
     "output_type": "stream",
     "text": [
      "'you' could not be found\n"
     ]
    }
   ],
   "source": [
    "list_to_search = ['we', 'are', 'the', 'knight', 'who', 'say', 'ni']\n",
    "not_found = True\n",
    "word_to_find = 'you'\n",
    "current_index = 0\n",
    "index_of_word = -1 #ใส่มาทำไม\n",
    "word_count = len(list_to_search)\n",
    "\n",
    "while not_found and current_index < word_count:\n",
    "    if list_to_search[current_index] == word_to_find:\n",
    "        not_found = False\n",
    "        index_of_word = current_index\n",
    "    current_index += 1\n",
    "if not_found:\n",
    "    print(f\"'{word_to_find}' could not be found\")\n",
    "else:\n",
    "    print(f\"the word '{word_to_find}' is located in index {index_of_word}\")"
   ]
  },
  {
   "cell_type": "code",
   "execution_count": 240,
   "id": "a8dd9e94-a260-41ee-a32f-50652f15ba31",
   "metadata": {},
   "outputs": [
    {
     "name": "stdout",
     "output_type": "stream",
     "text": [
      "you are currently 0 years old\n",
      "you are currently 1 years old\n",
      "you are currently 2 years old\n",
      "you are currently 3 years old\n",
      "you are currently 4 years old\n"
     ]
    }
   ],
   "source": [
    "#for loop : for...in range():\n",
    "\n",
    "for age in range(5):\n",
    "    print(f'you are currently {age} years old')"
   ]
  },
  {
   "cell_type": "code",
   "execution_count": 243,
   "id": "daecf9e7-9d07-46c2-9853-c0bf663efc43",
   "metadata": {},
   "outputs": [
    {
     "name": "stdout",
     "output_type": "stream",
     "text": [
      "you are currently 1 years old\n",
      "you are currently 2 years old\n",
      "you are currently 3 years old\n",
      "you are currently 4 years old\n"
     ]
    }
   ],
   "source": [
    "for age in range(1,5):     #range((incusive,default=0),end(exclusive),step)\n",
    "    print(f'you are currently {age} years old')"
   ]
  },
  {
   "cell_type": "code",
   "execution_count": 244,
   "id": "9ba56ccc-2678-469b-9a3b-5c1f8e3a8e8c",
   "metadata": {},
   "outputs": [
    {
     "name": "stdout",
     "output_type": "stream",
     "text": [
      "you are currently 1 years old\n",
      "you are currently 3 years old\n"
     ]
    }
   ],
   "source": [
    "#range((incusive,default=0),end(exclusive),step)\n",
    "for age in range(1,5,2):\n",
    "    print(f'you are currently {age} years old')"
   ]
  },
  {
   "cell_type": "code",
   "execution_count": 248,
   "id": "944eeaf6-20ef-43d7-ab2e-51d7b9e91b13",
   "metadata": {},
   "outputs": [
    {
     "name": "stdout",
     "output_type": "stream",
     "text": [
      "1\n",
      "2\n",
      "fizz\n",
      "4\n",
      "buzz\n",
      "fizz\n",
      "7\n",
      "8\n",
      "fizz\n",
      "buzz\n",
      "11\n",
      "fizz\n",
      "13\n",
      "14\n",
      "fizzbuzz\n"
     ]
    }
   ],
   "source": [
    "limit = 15\n",
    "\n",
    "for n in range(1,limit+1):\n",
    "    fizzbuzz(n)"
   ]
  },
  {
   "cell_type": "code",
   "execution_count": 250,
   "id": "34693693-033c-4a28-b8ea-8930c17bc155",
   "metadata": {},
   "outputs": [
    {
     "name": "stdout",
     "output_type": "stream",
     "text": [
      "Outer loop iteration: 0\n",
      "\tInner loop iteration: 0\n",
      "\tInner loop iteration: 1\n",
      "\tInner loop iteration: 2\n",
      "\tInner loop iteration: 3\n",
      "\tInner loop iteration: 4\n",
      "Outer loop iteration: 1\n",
      "\tInner loop iteration: 0\n",
      "\tInner loop iteration: 1\n",
      "\tInner loop iteration: 2\n",
      "\tInner loop iteration: 3\n",
      "\tInner loop iteration: 4\n",
      "Outer loop iteration: 2\n",
      "\tInner loop iteration: 0\n",
      "\tInner loop iteration: 1\n",
      "\tInner loop iteration: 2\n",
      "\tInner loop iteration: 3\n",
      "\tInner loop iteration: 4\n"
     ]
    }
   ],
   "source": [
    "#Nested loops\n",
    "for outer_index in range(3):\n",
    "    print(f'Outer loop iteration: {outer_index}')\n",
    "    \n",
    "    for inner_index in range(5):\n",
    "        print(f'\\tInner loop iteration: {inner_index}') #\\t = tap"
   ]
  },
  {
   "cell_type": "code",
   "execution_count": 257,
   "id": "d961e3b9-cbb3-43fe-a0d4-7faecfac2d3b",
   "metadata": {},
   "outputs": [
    {
     "name": "stdout",
     "output_type": "stream",
     "text": [
      "Outer loop iteration: 0\n",
      "\tInner loop iteration: 5\n",
      "\tInner loop iteration: 4\n",
      "\tInner loop iteration: 3\n",
      "\tInner loop iteration: 2\n",
      "\tInner loop iteration: 1\n",
      "Outer loop iteration: 1\n",
      "\tInner loop iteration: 5\n",
      "\tInner loop iteration: 4\n",
      "\tInner loop iteration: 3\n",
      "\tInner loop iteration: 2\n",
      "\tInner loop iteration: 1\n"
     ]
    }
   ],
   "source": [
    "#Nested loops\n",
    "for outer_index in range(2):\n",
    "    print(f'Outer loop iteration: {outer_index}')\n",
    "    \n",
    "    for inner_index in range(5,0,-1):  #ถ้าย้อนกลับ step ต้องติดลบ\n",
    "        print(f'\\tInner loop iteration: {inner_index}') #\\t = tap"
   ]
  },
  {
   "cell_type": "code",
   "execution_count": 302,
   "id": "13c2d93f-f346-4ea7-b75e-4ed7265405ff",
   "metadata": {},
   "outputs": [
    {
     "name": "stdout",
     "output_type": "stream",
     "text": [
      "1\n",
      "12\n",
      "123\n",
      "1234\n",
      "12345\n"
     ]
    }
   ],
   "source": [
    "for outer_index in range(1,6):\n",
    "    for inner_index in range(1 , outer_index + 1):\n",
    "        print(inner_index,end='')  #default end of print is '\\n' ทำให้ปริ้นบรรทัดถัดไป ถ้าแก้เป็น end=''ว่างเปล่า มันจะปริ้นบรรทัดเดียวกัน \n",
    "    #new line\n",
    "    print('')"
   ]
  },
  {
   "cell_type": "code",
   "execution_count": null,
   "id": "3e8efb85-862a-4dce-83de-58c6b4f60796",
   "metadata": {},
   "outputs": [],
   "source": [
    "#:.2f = rounded to 2 decimal places(2dp)\n",
    "#:.3f = rounded to 3 decimal place(3dp)"
   ]
  },
  {
   "cell_type": "code",
   "execution_count": 303,
   "id": "0482667d-6f37-4f0f-8788-6a66af4b64fd",
   "metadata": {},
   "outputs": [
    {
     "name": "stdout",
     "output_type": "stream",
     "text": [
      "720\n"
     ]
    }
   ],
   "source": [
    "#Exercise1\n",
    "print(6*5*4*3*2*1)"
   ]
  },
  {
   "cell_type": "code",
   "execution_count": 316,
   "id": "d67ee8a1-6457-4e36-b79e-3a71975fdf57",
   "metadata": {},
   "outputs": [
    {
     "name": "stdout",
     "output_type": "stream",
     "text": [
      " [1, 2] is <class 'list'>\n",
      " [3, 5, 6] is <class 'list'>\n",
      " [4, 2] is <class 'list'>\n",
      " [1, 2, 3, 5, 6, 4, 2] is <class 'list'>\n"
     ]
    }
   ],
   "source": [
    "#Exercise2\n",
    "width = [1, 2]\n",
    "height = [3, 5, 6]\n",
    "depth = [4, 2]\n",
    "fourth_variable = width + height + depth\n",
    "print(f' {width} is {type(width)}')\n",
    "print(f' {height} is {type(height)}')\n",
    "print(f' {depth} is {type(depth)}')\n",
    "print(f' {fourth_variable} is {type(fourth_variable)}')\n",
    "\n"
   ]
  },
  {
   "cell_type": "code",
   "execution_count": 318,
   "id": "9fd88a63-3806-4795-bb86-dd7d9a8c77fe",
   "metadata": {},
   "outputs": [
    {
     "name": "stdout",
     "output_type": "stream",
     "text": [
      "Help on module math:\n",
      "\n",
      "NAME\n",
      "    math\n",
      "\n",
      "MODULE REFERENCE\n",
      "    https://docs.python.org/3.10/library/math.html\n",
      "    \n",
      "    The following documentation is automatically generated from the Python\n",
      "    source files.  It may be incomplete, incorrect or include features that\n",
      "    are considered implementation detail and may vary between Python\n",
      "    implementations.  When in doubt, consult the module reference at the\n",
      "    location listed above.\n",
      "\n",
      "DESCRIPTION\n",
      "    This module provides access to the mathematical functions\n",
      "    defined by the C standard.\n",
      "\n",
      "FUNCTIONS\n",
      "    acos(x, /)\n",
      "        Return the arc cosine (measured in radians) of x.\n",
      "        \n",
      "        The result is between 0 and pi.\n",
      "    \n",
      "    acosh(x, /)\n",
      "        Return the inverse hyperbolic cosine of x.\n",
      "    \n",
      "    asin(x, /)\n",
      "        Return the arc sine (measured in radians) of x.\n",
      "        \n",
      "        The result is between -pi/2 and pi/2.\n",
      "    \n",
      "    asinh(x, /)\n",
      "        Return the inverse hyperbolic sine of x.\n",
      "    \n",
      "    atan(x, /)\n",
      "        Return the arc tangent (measured in radians) of x.\n",
      "        \n",
      "        The result is between -pi/2 and pi/2.\n",
      "    \n",
      "    atan2(y, x, /)\n",
      "        Return the arc tangent (measured in radians) of y/x.\n",
      "        \n",
      "        Unlike atan(y/x), the signs of both x and y are considered.\n",
      "    \n",
      "    atanh(x, /)\n",
      "        Return the inverse hyperbolic tangent of x.\n",
      "    \n",
      "    ceil(x, /)\n",
      "        Return the ceiling of x as an Integral.\n",
      "        \n",
      "        This is the smallest integer >= x.\n",
      "    \n",
      "    comb(n, k, /)\n",
      "        Number of ways to choose k items from n items without repetition and without order.\n",
      "        \n",
      "        Evaluates to n! / (k! * (n - k)!) when k <= n and evaluates\n",
      "        to zero when k > n.\n",
      "        \n",
      "        Also called the binomial coefficient because it is equivalent\n",
      "        to the coefficient of k-th term in polynomial expansion of the\n",
      "        expression (1 + x)**n.\n",
      "        \n",
      "        Raises TypeError if either of the arguments are not integers.\n",
      "        Raises ValueError if either of the arguments are negative.\n",
      "    \n",
      "    copysign(x, y, /)\n",
      "        Return a float with the magnitude (absolute value) of x but the sign of y.\n",
      "        \n",
      "        On platforms that support signed zeros, copysign(1.0, -0.0)\n",
      "        returns -1.0.\n",
      "    \n",
      "    cos(x, /)\n",
      "        Return the cosine of x (measured in radians).\n",
      "    \n",
      "    cosh(x, /)\n",
      "        Return the hyperbolic cosine of x.\n",
      "    \n",
      "    degrees(x, /)\n",
      "        Convert angle x from radians to degrees.\n",
      "    \n",
      "    dist(p, q, /)\n",
      "        Return the Euclidean distance between two points p and q.\n",
      "        \n",
      "        The points should be specified as sequences (or iterables) of\n",
      "        coordinates.  Both inputs must have the same dimension.\n",
      "        \n",
      "        Roughly equivalent to:\n",
      "            sqrt(sum((px - qx) ** 2.0 for px, qx in zip(p, q)))\n",
      "    \n",
      "    erf(x, /)\n",
      "        Error function at x.\n",
      "    \n",
      "    erfc(x, /)\n",
      "        Complementary error function at x.\n",
      "    \n",
      "    exp(x, /)\n",
      "        Return e raised to the power of x.\n",
      "    \n",
      "    expm1(x, /)\n",
      "        Return exp(x)-1.\n",
      "        \n",
      "        This function avoids the loss of precision involved in the direct evaluation of exp(x)-1 for small x.\n",
      "    \n",
      "    fabs(x, /)\n",
      "        Return the absolute value of the float x.\n",
      "    \n",
      "    factorial(x, /)\n",
      "        Find x!.\n",
      "        \n",
      "        Raise a ValueError if x is negative or non-integral.\n",
      "    \n",
      "    floor(x, /)\n",
      "        Return the floor of x as an Integral.\n",
      "        \n",
      "        This is the largest integer <= x.\n",
      "    \n",
      "    fmod(x, y, /)\n",
      "        Return fmod(x, y), according to platform C.\n",
      "        \n",
      "        x % y may differ.\n",
      "    \n",
      "    frexp(x, /)\n",
      "        Return the mantissa and exponent of x, as pair (m, e).\n",
      "        \n",
      "        m is a float and e is an int, such that x = m * 2.**e.\n",
      "        If x is 0, m and e are both 0.  Else 0.5 <= abs(m) < 1.0.\n",
      "    \n",
      "    fsum(seq, /)\n",
      "        Return an accurate floating point sum of values in the iterable seq.\n",
      "        \n",
      "        Assumes IEEE-754 floating point arithmetic.\n",
      "    \n",
      "    gamma(x, /)\n",
      "        Gamma function at x.\n",
      "    \n",
      "    gcd(*integers)\n",
      "        Greatest Common Divisor.\n",
      "    \n",
      "    hypot(...)\n",
      "        hypot(*coordinates) -> value\n",
      "        \n",
      "        Multidimensional Euclidean distance from the origin to a point.\n",
      "        \n",
      "        Roughly equivalent to:\n",
      "            sqrt(sum(x**2 for x in coordinates))\n",
      "        \n",
      "        For a two dimensional point (x, y), gives the hypotenuse\n",
      "        using the Pythagorean theorem:  sqrt(x*x + y*y).\n",
      "        \n",
      "        For example, the hypotenuse of a 3/4/5 right triangle is:\n",
      "        \n",
      "            >>> hypot(3.0, 4.0)\n",
      "            5.0\n",
      "    \n",
      "    isclose(a, b, *, rel_tol=1e-09, abs_tol=0.0)\n",
      "        Determine whether two floating point numbers are close in value.\n",
      "        \n",
      "          rel_tol\n",
      "            maximum difference for being considered \"close\", relative to the\n",
      "            magnitude of the input values\n",
      "          abs_tol\n",
      "            maximum difference for being considered \"close\", regardless of the\n",
      "            magnitude of the input values\n",
      "        \n",
      "        Return True if a is close in value to b, and False otherwise.\n",
      "        \n",
      "        For the values to be considered close, the difference between them\n",
      "        must be smaller than at least one of the tolerances.\n",
      "        \n",
      "        -inf, inf and NaN behave similarly to the IEEE 754 Standard.  That\n",
      "        is, NaN is not close to anything, even itself.  inf and -inf are\n",
      "        only close to themselves.\n",
      "    \n",
      "    isfinite(x, /)\n",
      "        Return True if x is neither an infinity nor a NaN, and False otherwise.\n",
      "    \n",
      "    isinf(x, /)\n",
      "        Return True if x is a positive or negative infinity, and False otherwise.\n",
      "    \n",
      "    isnan(x, /)\n",
      "        Return True if x is a NaN (not a number), and False otherwise.\n",
      "    \n",
      "    isqrt(n, /)\n",
      "        Return the integer part of the square root of the input.\n",
      "    \n",
      "    lcm(*integers)\n",
      "        Least Common Multiple.\n",
      "    \n",
      "    ldexp(x, i, /)\n",
      "        Return x * (2**i).\n",
      "        \n",
      "        This is essentially the inverse of frexp().\n",
      "    \n",
      "    lgamma(x, /)\n",
      "        Natural logarithm of absolute value of Gamma function at x.\n",
      "    \n",
      "    log(...)\n",
      "        log(x, [base=math.e])\n",
      "        Return the logarithm of x to the given base.\n",
      "        \n",
      "        If the base not specified, returns the natural logarithm (base e) of x.\n",
      "    \n",
      "    log10(x, /)\n",
      "        Return the base 10 logarithm of x.\n",
      "    \n",
      "    log1p(x, /)\n",
      "        Return the natural logarithm of 1+x (base e).\n",
      "        \n",
      "        The result is computed in a way which is accurate for x near zero.\n",
      "    \n",
      "    log2(x, /)\n",
      "        Return the base 2 logarithm of x.\n",
      "    \n",
      "    modf(x, /)\n",
      "        Return the fractional and integer parts of x.\n",
      "        \n",
      "        Both results carry the sign of x and are floats.\n",
      "    \n",
      "    nextafter(x, y, /)\n",
      "        Return the next floating-point value after x towards y.\n",
      "    \n",
      "    perm(n, k=None, /)\n",
      "        Number of ways to choose k items from n items without repetition and with order.\n",
      "        \n",
      "        Evaluates to n! / (n - k)! when k <= n and evaluates\n",
      "        to zero when k > n.\n",
      "        \n",
      "        If k is not specified or is None, then k defaults to n\n",
      "        and the function returns n!.\n",
      "        \n",
      "        Raises TypeError if either of the arguments are not integers.\n",
      "        Raises ValueError if either of the arguments are negative.\n",
      "    \n",
      "    pow(x, y, /)\n",
      "        Return x**y (x to the power of y).\n",
      "    \n",
      "    prod(iterable, /, *, start=1)\n",
      "        Calculate the product of all the elements in the input iterable.\n",
      "        \n",
      "        The default start value for the product is 1.\n",
      "        \n",
      "        When the iterable is empty, return the start value.  This function is\n",
      "        intended specifically for use with numeric values and may reject\n",
      "        non-numeric types.\n",
      "    \n",
      "    radians(x, /)\n",
      "        Convert angle x from degrees to radians.\n",
      "    \n",
      "    remainder(x, y, /)\n",
      "        Difference between x and the closest integer multiple of y.\n",
      "        \n",
      "        Return x - n*y where n*y is the closest integer multiple of y.\n",
      "        In the case where x is exactly halfway between two multiples of\n",
      "        y, the nearest even value of n is used. The result is always exact.\n",
      "    \n",
      "    sin(x, /)\n",
      "        Return the sine of x (measured in radians).\n",
      "    \n",
      "    sinh(x, /)\n",
      "        Return the hyperbolic sine of x.\n",
      "    \n",
      "    sqrt(x, /)\n",
      "        Return the square root of x.\n",
      "    \n",
      "    tan(x, /)\n",
      "        Return the tangent of x (measured in radians).\n",
      "    \n",
      "    tanh(x, /)\n",
      "        Return the hyperbolic tangent of x.\n",
      "    \n",
      "    trunc(x, /)\n",
      "        Truncates the Real x to the nearest Integral toward 0.\n",
      "        \n",
      "        Uses the __trunc__ magic method.\n",
      "    \n",
      "    ulp(x, /)\n",
      "        Return the value of the least significant bit of the float x.\n",
      "\n",
      "DATA\n",
      "    e = 2.718281828459045\n",
      "    inf = inf\n",
      "    nan = nan\n",
      "    pi = 3.141592653589793\n",
      "    tau = 6.283185307179586\n",
      "\n",
      "FILE\n",
      "    /Users/tqopmtam/anaconda3/lib/python3.10/lib-dynload/math.cpython-310-darwin.so\n",
      "\n",
      "\n"
     ]
    }
   ],
   "source": [
    "#Exercise\n",
    "import math\n",
    "\n",
    "help(math)"
   ]
  },
  {
   "cell_type": "code",
   "execution_count": 319,
   "id": "cbd3bbbd-de23-4793-acf3-6179911dc257",
   "metadata": {},
   "outputs": [
    {
     "name": "stdout",
     "output_type": "stream",
     "text": [
      "Help on built-in function factorial in module math:\n",
      "\n",
      "factorial(x, /)\n",
      "    Find x!.\n",
      "    \n",
      "    Raise a ValueError if x is negative or non-integral.\n",
      "\n"
     ]
    }
   ],
   "source": [
    "help(math.factorial)"
   ]
  },
  {
   "cell_type": "code",
   "execution_count": 327,
   "id": "befbe976-eb88-4f96-92ab-6581ad56d1e2",
   "metadata": {},
   "outputs": [
    {
     "data": {
      "text/plain": [
       "720"
      ]
     },
     "execution_count": 327,
     "metadata": {},
     "output_type": "execute_result"
    }
   ],
   "source": [
    "math.factorial(6)"
   ]
  },
  {
   "cell_type": "code",
   "execution_count": 355,
   "id": "044bde75-fb41-445f-9f05-1d30bf218713",
   "metadata": {},
   "outputs": [
    {
     "name": "stdout",
     "output_type": "stream",
     "text": [
      "-6.67\n",
      "37.78\n"
     ]
    }
   ],
   "source": [
    "#Exercise 4\n",
    "deg_fahrenheit = 20\n",
    "deg_celsius = (deg_fahrenheit - 32) / (9.0/5.0)\n",
    "print(round(deg_celsius,2))\n",
    "\n",
    "deg_fahrenheit = 100\n",
    "deg_celsius = (deg_fahrenheit - 32) / (9.0/5.0)\n",
    "print(round(deg_celsius,2))"
   ]
  },
  {
   "cell_type": "code",
   "execution_count": 360,
   "id": "eec5d8b9-0a0f-4489-a34d-d1e69b363c50",
   "metadata": {},
   "outputs": [
    {
     "name": "stdout",
     "output_type": "stream",
     "text": [
      "velocity is 2.0 m/s when distance travelled is 10 m and time taken is 5 s.\n",
      "velocity is 833.33 m/s when distance travelled is 100 m and time taken is 0.12 s.\n"
     ]
    }
   ],
   "source": [
    "#Exercise 5\n",
    "distance_travelled = 10 #metre\n",
    "time_taken = 5 #second\n",
    "velocity = distance_travelled / time_taken #m/s\n",
    "print(f'velocity is {velocity} m/s when distance travelled is {distance_travelled} m and time taken is {time_taken} s.')\n",
    "\n",
    "distance_travelled = 100 #metre\n",
    "time_taken = 0.12 #second\n",
    "velocity = distance_travelled / time_taken #m/s\n",
    "print(f'velocity is {round(velocity,2)} m/s when distance travelled is {distance_travelled} m and time taken is {time_taken} s.')"
   ]
  },
  {
   "cell_type": "code",
   "execution_count": 382,
   "id": "7f6a3cbc-97f4-4957-ae62-caa4b1128d31",
   "metadata": {},
   "outputs": [
    {
     "name": "stdout",
     "output_type": "stream",
     "text": [
      "['Iron-man', 'Captain America']\n",
      "['Captain America', 'Spider-man', 'Thor']\n",
      "['Thor', 'Deadpool']\n",
      "['Iron-man', 'Captain America', 'Spider-man', 'Thor', 'Deadpool', 'Doctor Strange']\n",
      "['Iron-man', 'Captain America', 'Spider-man', 'Thor', 'Headpool', 'Deadpool', 'Doctor Strange']\n",
      "['Captain America', 'Spider-man', 'Thor', 'Headpool', 'Deadpool', 'Doctor Strange']\n"
     ]
    }
   ],
   "source": [
    "#Exercisr 6\n",
    "comics = ['Iron-man', 'Captain America', 'Spider-man','Thor', 'Deadpool']\n",
    "\n",
    "print(comics[0:2]) #slice use : between, range use , between\n",
    "print(comics[1:4])\n",
    "print(comics[3:5])\n",
    "comics.append('Doctor Strange')\n",
    "print(comics)\n",
    "comics.insert(4,'Headpool')\n",
    "print(comics)\n",
    "del comics[0]\n",
    "print(comics)"
   ]
  },
  {
   "cell_type": "code",
   "execution_count": 393,
   "id": "93ef399f-97d3-4b69-9e83-a8db96b62c15",
   "metadata": {},
   "outputs": [
    {
     "name": "stdout",
     "output_type": "stream",
     "text": [
      "[7, 6, 5, 4, 3, 2, 1]\n"
     ]
    }
   ],
   "source": [
    "#sort\n",
    "data = [5, 7, 6, 4, 3, 2, 1]\n",
    "\n",
    "data.sort(reverse=True)\n",
    "print(data)"
   ]
  },
  {
   "cell_type": "code",
   "execution_count": 394,
   "id": "7cb0d83a-7483-4c8b-ba53-c77a034f25e1",
   "metadata": {},
   "outputs": [
    {
     "name": "stdout",
     "output_type": "stream",
     "text": [
      "7\n",
      "1\n"
     ]
    }
   ],
   "source": [
    "result1 = max(data)\n",
    "result2 = min(data)\n",
    "print(result1)\n",
    "print(result2)"
   ]
  },
  {
   "cell_type": "code",
   "execution_count": 473,
   "id": "e780aa70-2bdf-4e25-8b0e-15f69b0f1941",
   "metadata": {},
   "outputs": [
    {
     "name": "stdout",
     "output_type": "stream",
     "text": [
      " Part 1 = ei : part2 = ei\n"
     ]
    }
   ],
   "source": [
    "word = 'eiei'\n",
    "result = split_word_in_two(word)\n",
    "print(' Part 1 = {0} : part2 = {1}'.format(result[0],result[1]))"
   ]
  },
  {
   "cell_type": "code",
   "execution_count": 467,
   "id": "7ebd8280-cea5-482e-bdd0-e24e33bd99c7",
   "metadata": {},
   "outputs": [],
   "source": [
    "def split_word_in_two(to_split):\n",
    "    \"\"\"\n",
    "    Returns string split into two parts\n",
    "\n",
    "    If the word's length is even the two parts have\n",
    "    equal number of characters\n",
    "\n",
    "    Params:\n",
    "    -------\n",
    "    to_split: str \n",
    "        the string to split int o\n",
    "    \"\"\"\n",
    "    length = len(to_split)\n",
    "    half_length = length // 2\n",
    "\n",
    "    part1 = to_split[:half_length]\n",
    "    part2 = to_split[half_length:]\n",
    "\n",
    "    return part1, part2\n",
    "\n",
    "\n",
    "def main():\n",
    "    \"\"\"\n",
    "    Tests the split_word_in_two function.\n",
    "    Input word = 'faster'\n",
    "    Expected output = ('fas', 'ter')\n",
    "    \"\"\"\n",
    "    word_to_split = 'faster'\n",
    "    result = split_word_in_two(word_to_split)\n",
    "    print('Part 1 = {0}; Part 2 = {1}'.format(result[0], result[1]))\n",
    "\n",
    "if __name__ == \"__main__\":\n",
    "        main()"
   ]
  },
  {
   "cell_type": "code",
   "execution_count": 466,
   "id": "95a16645-f243-4a63-8cac-6589dbd01859",
   "metadata": {},
   "outputs": [
    {
     "name": "stdout",
     "output_type": "stream",
     "text": [
      "fas\n"
     ]
    }
   ],
   "source": [
    "\n",
    "def split_word_in_two(to_split):\n",
    "    \"\"\"\n",
    "    Returns string split into two parts\n",
    "\n",
    "    If the word's length is even the two parts have\n",
    "    equal number of characters\n",
    "\n",
    "    Params:\n",
    "    -------\n",
    "    to_split: str \n",
    "        the string to split int o\n",
    "    \"\"\"\n",
    "    length = len(to_split)\n",
    "    half_length = length // 2\n",
    "    part1 = to_split[:half_length]\n",
    "    part2 = to_split[half_length:]\n",
    "    return part1, part2\n",
    "\n",
    "A = 'faster'\n",
    "part1, part2 = split_word_in_two(A)\n",
    "print(part1)"
   ]
  },
  {
   "cell_type": "code",
   "execution_count": 455,
   "id": "37239ea5-1d91-4a9a-bf6b-7353f289543b",
   "metadata": {},
   "outputs": [
    {
     "name": "stdout",
     "output_type": "stream",
     "text": [
      "[1, 2, 3]\n"
     ]
    }
   ],
   "source": [
    "def split_list(a_list):\n",
    "    half = len(a_list)//2\n",
    "    return a_list[:half], a_list[half:]\n",
    "\n",
    "A = [1,2,3,4,5,6]\n",
    "B, C = split_list(A)\n",
    "print(B)"
   ]
  },
  {
   "cell_type": "code",
   "execution_count": null,
   "id": "66c619d5-b0c9-4bb9-a12a-7f6b4bbeb952",
   "metadata": {},
   "outputs": [],
   "source": []
  }
 ],
 "metadata": {
  "kernelspec": {
   "display_name": "Python 3 (ipykernel)",
   "language": "python",
   "name": "python3"
  },
  "language_info": {
   "codemirror_mode": {
    "name": "ipython",
    "version": 3
   },
   "file_extension": ".py",
   "mimetype": "text/x-python",
   "name": "python",
   "nbconvert_exporter": "python",
   "pygments_lexer": "ipython3",
   "version": "3.10.9"
  }
 },
 "nbformat": 4,
 "nbformat_minor": 5
}
