{
 "cells": [
  {
   "cell_type": "code",
   "execution_count": 1,
   "id": "31760f9e-f30e-43fe-80b3-f4bcb3ecee1f",
   "metadata": {},
   "outputs": [
    {
     "name": "stdout",
     "output_type": "stream",
     "text": [
      "18\n"
     ]
    }
   ],
   "source": [
    "x = [3, 5, 9, 1]\n",
    "print(sum(x))"
   ]
  },
  {
   "cell_type": "code",
   "execution_count": 7,
   "id": "1dcc46c3-d125-41ad-8444-83edc9c98150",
   "metadata": {},
   "outputs": [
    {
     "name": "stdout",
     "output_type": "stream",
     "text": [
      "1683.95\n",
      "316.85\n"
     ]
    }
   ],
   "source": [
    "def present_val(future_val,rate,n):\n",
    "    pv = future_val / (1 + rate) ** n\n",
    "    return pv\n",
    "\n",
    "#Test\n",
    "future_val = 2000\n",
    "rate = 0.035\n",
    "n = 5\n",
    "pv = present_val(future_val,rate,n)\n",
    "print(round(pv,2))\n",
    "\n",
    "future_val = 350\n",
    "rate = 0.01\n",
    "n = 10\n",
    "pv = present_val(future_val,rate,n)\n",
    "print(round(pv,2))"
   ]
  },
  {
   "cell_type": "code",
   "execution_count": 16,
   "id": "77a41d2c-5ff4-4319-9e23-9c9bd8bc116a",
   "metadata": {},
   "outputs": [
    {
     "name": "stdout",
     "output_type": "stream",
     "text": [
      "1\n",
      "FIZZ\n",
      "BUZZ\n",
      "FIZZBUZZ\n",
      "23\n"
     ]
    }
   ],
   "source": [
    "def fizzbuzz(n):\n",
    "    if n % 3 == 0 and n % 5 == 0:\n",
    "        print('FIZZBUZZ')\n",
    "    elif n % 3 == 0:\n",
    "        print('FIZZ')\n",
    "    elif n % 5 == 0:\n",
    "        print('BUZZ')\n",
    "    else:\n",
    "        print(n)\n",
    "        \n",
    "list = [1, 3, 5, 15, 23]\n",
    "for index in range(len(list)):\n",
    "    fizzbuzz(list[index]) "
   ]
  },
  {
   "cell_type": "code",
   "execution_count": 21,
   "id": "8a9a860c-3c2a-44bb-97d2-751df8a33627",
   "metadata": {},
   "outputs": [
    {
     "name": "stdout",
     "output_type": "stream",
     "text": [
      "[102.56, 97.7, 99.14, 105.8]\n"
     ]
    }
   ],
   "source": [
    "def convert_celsius_to_fahrenheit(deg_celsius):\n",
    "    deg_fahrenheit = 9.0/5.0 * deg_celsius + 32\n",
    "    return round(deg_fahrenheit,2)\n",
    "\n",
    "celcius = [39.2, 36.5, 37.3, 41]\n",
    "\n",
    "degree_f = []\n",
    "for index in range(len(celcius)):\n",
    "    degree_f.append(convert_celsius_to_fahrenheit(celcius[index]))\n",
    "\n",
    "print(degree_f)                  "
   ]
  },
  {
   "cell_type": "code",
   "execution_count": 25,
   "id": "373838e6-c2a4-4782-9466-ca0aa65af9d0",
   "metadata": {},
   "outputs": [
    {
     "name": "stdout",
     "output_type": "stream",
     "text": [
      "1000\n"
     ]
    }
   ],
   "source": [
    "to_search = [0, 1000, 2, 999, 5 ,100, 54]\n",
    "\n",
    "import math\n",
    "def find_max(list):\n",
    "    max_val = -math.inf\n",
    "    for index in range(len(to_search)):\n",
    "        if to_search[index] > max_val:\n",
    "            max_val = to_search[index]\n",
    "        else:\n",
    "            max_val\n",
    "    return max_val\n",
    "\n",
    "print(find_max(to_search))"
   ]
  },
  {
   "cell_type": "code",
   "execution_count": 59,
   "id": "20c9ae1b-920c-4e80-8197-fe611b9e49d6",
   "metadata": {},
   "outputs": [
    {
     "name": "stdout",
     "output_type": "stream",
     "text": [
      "[8, 2, 1, 9, 2, 1, 4, 5, 100]\n"
     ]
    }
   ],
   "source": [
    "list_of_list = [[8,2,1],[9,2,1],[4,5,100]]\n",
    "\n",
    "list1 = list_of_list[0]\n",
    "list2 = list_of_list[1]\n",
    "list3 = list_of_list[2]\n",
    "new_list = []\n",
    "for index in range(len(list1)):\n",
    "    new_list.append(list1[index])\n",
    "for index in range(len(list2)):\n",
    "    new_list.append(list2[index])\n",
    "for index in range(len(list3)):\n",
    "    new_list.append(list3[index])\n",
    "    \n",
    "print(new_list)"
   ]
  },
  {
   "cell_type": "code",
   "execution_count": 72,
   "id": "4ae4573a-fabb-44aa-8bd1-97365176295b",
   "metadata": {},
   "outputs": [
    {
     "name": "stdout",
     "output_type": "stream",
     "text": [
      "[8, 2, 100, 8, 2, 100, 8, 2, 100]\n"
     ]
    }
   ],
   "source": [
    "list_of_list = [[8,2,1],[9,2,1],[4,5,100]]\n",
    "\n",
    "new_list = []\n",
    "for index in range(len(list_of_list)):\n",
    "    for index in range(len(list_of_list[index])):\n",
    "        new_list.append((list_of_list[index])[index])\n",
    "        \n",
    "print(new_list)"
   ]
  },
  {
   "cell_type": "code",
   "execution_count": 51,
   "id": "647171e8-3bab-495b-bdb8-abcd5e968e07",
   "metadata": {},
   "outputs": [
    {
     "name": "stdout",
     "output_type": "stream",
     "text": [
      "['Iron-man', 'Captain America']\n",
      "['Captain America', 'Spider-man', 'Thor']\n",
      "['Thor', 'Deatpool']\n",
      "['Iron-man', 'Captain America', 'Spider-man', 'Thor', 'Deatpool', 'Doctor Strange']\n",
      "['Iron-man', 'Captain America', 'Spider-man', 'Thor', 'Headpool', 'Deatpool', 'Doctor Strange']\n",
      "['Captain America', 'Spider-man', 'Thor', 'Headpool', 'Deatpool', 'Doctor Strange']\n"
     ]
    }
   ],
   "source": [
    "comics =['Iron-man', 'Captain America', 'Spider-man','Thor','Deatpool']\n",
    "print(comics[0:2])\n",
    "print(comics[1:4])\n",
    "print(comics[3:5])\n",
    "comics.append('Doctor Strange')\n",
    "print(comics)\n",
    "comics.insert(4,'Headpool')\n",
    "print(comics)\n",
    "comics.remove('Iron-man')\n",
    "print(comics)"
   ]
  },
  {
   "cell_type": "code",
   "execution_count": null,
   "id": "24252894-30e4-4420-a2b4-f066b6137d70",
   "metadata": {},
   "outputs": [],
   "source": []
  }
 ],
 "metadata": {
  "kernelspec": {
   "display_name": "Python 3 (ipykernel)",
   "language": "python",
   "name": "python3"
  },
  "language_info": {
   "codemirror_mode": {
    "name": "ipython",
    "version": 3
   },
   "file_extension": ".py",
   "mimetype": "text/x-python",
   "name": "python",
   "nbconvert_exporter": "python",
   "pygments_lexer": "ipython3",
   "version": "3.10.9"
  }
 },
 "nbformat": 4,
 "nbformat_minor": 5
}
