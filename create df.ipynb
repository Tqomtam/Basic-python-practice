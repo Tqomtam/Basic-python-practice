{
 "cells": [
  {
   "cell_type": "code",
   "execution_count": 8,
   "id": "17cd622d-030a-48f0-aea2-e4bc4db81a50",
   "metadata": {},
   "outputs": [
    {
     "name": "stdout",
     "output_type": "stream",
     "text": [
      "   id     name  age\n",
      "0   1  toomtam   30\n",
      "1   2     phon   31\n",
      "2   3     pang   33\n"
     ]
    }
   ],
   "source": [
    "import pandas as pd\n",
    "\n",
    "raw_dat = {\n",
    "    'id' : [1,2,3],\n",
    "    'name' : ['toomtam', 'phon', 'pang'],\n",
    "    'age' : [30,31,33]\n",
    "}\n",
    "\n",
    "df = pd.DataFrame(raw_dat)\n",
    "\n",
    "print(df)\n",
    "    "
   ]
  },
  {
   "cell_type": "code",
   "execution_count": 12,
   "id": "3d44c27a-94ae-4ebd-a5af-9b48f734b3df",
   "metadata": {},
   "outputs": [],
   "source": [
    "df.to_csv('TT.csv')"
   ]
  },
  {
   "cell_type": "code",
   "execution_count": 17,
   "id": "8f3c59db-8fbd-479d-bf06-7d230ca2ff41",
   "metadata": {},
   "outputs": [
    {
     "ename": "NameError",
     "evalue": "name 'count' is not defined",
     "output_type": "error",
     "traceback": [
      "\u001b[0;31m---------------------------------------------------------------------------\u001b[0m",
      "\u001b[0;31mNameError\u001b[0m                                 Traceback (most recent call last)",
      "Cell \u001b[0;32mIn[17], line 2\u001b[0m\n\u001b[1;32m      1\u001b[0m \u001b[38;5;28;01mimport\u001b[39;00m \u001b[38;5;21;01mitertools\u001b[39;00m\n\u001b[0;32m----> 2\u001b[0m \u001b[43mcount\u001b[49m(\u001b[38;5;241m10\u001b[39m,\u001b[38;5;241m1\u001b[39m)\n",
      "\u001b[0;31mNameError\u001b[0m: name 'count' is not defined"
     ]
    }
   ],
   "source": [
    "import itertools\n"
   ]
  },
  {
   "cell_type": "code",
   "execution_count": null,
   "id": "f87d96bf-f7e4-443e-93d5-f9c379fa3ae9",
   "metadata": {},
   "outputs": [],
   "source": []
  }
 ],
 "metadata": {
  "kernelspec": {
   "display_name": "Python 3 (ipykernel)",
   "language": "python",
   "name": "python3"
  },
  "language_info": {
   "codemirror_mode": {
    "name": "ipython",
    "version": 3
   },
   "file_extension": ".py",
   "mimetype": "text/x-python",
   "name": "python",
   "nbconvert_exporter": "python",
   "pygments_lexer": "ipython3",
   "version": "3.10.9"
  }
 },
 "nbformat": 4,
 "nbformat_minor": 5
}
