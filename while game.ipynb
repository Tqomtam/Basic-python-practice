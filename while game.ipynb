{
 "cells": [
  {
   "cell_type": "code",
   "execution_count": 5,
   "id": "9bc922d0-0806-430b-a349-92332fc9732b",
   "metadata": {},
   "outputs": [
    {
     "name": "stdin",
     "output_type": "stream",
     "text": [
      "put your guess number! 1 : 10 >> 3\n",
      "put your guess number! 1 : 10 >> 6\n",
      "put your guess number! 1 : 10 >> 7\n"
     ]
    },
    {
     "name": "stdout",
     "output_type": "stream",
     "text": [
      "congratulation! you win\n"
     ]
    }
   ],
   "source": [
    "def correct(guess,correct_answer):\n",
    "    return guess == correct_answer\n",
    "\n",
    "def play_game(correct_answer):\n",
    "    guess = -1\n",
    "    while not correct(guess,correct_answer):\n",
    "        guess = int(input('put your guess number! 1 : 10 >>'))\n",
    "    \n",
    "    print('congratulation! you win')\n",
    "    \n",
    "play_game(7)"
   ]
  },
  {
   "cell_type": "code",
   "execution_count": 9,
   "id": "dece56ec-cfc6-4d3b-9556-a61a4e162b41",
   "metadata": {},
   "outputs": [
    {
     "name": "stdin",
     "output_type": "stream",
     "text": [
      "put your guess number! 1 : 10 >> 1\n",
      "put your guess number! 1 : 10 >> 4\n",
      "put your guess number! 1 : 10 >> 3\n",
      "put your guess number! 1 : 10 >> 5\n",
      "put your guess number! 1 : 10 >> 2\n",
      "put your guess number! 1 : 10 >> 6\n"
     ]
    },
    {
     "name": "stdout",
     "output_type": "stream",
     "text": [
      "Sorry you lost\n"
     ]
    }
   ],
   "source": [
    "def correct(guess,correct_answer):\n",
    "    return guess == correct_answer\n",
    "\n",
    "def play_game(correct_answer,lives):\n",
    "    guess = -1\n",
    "    while lives > 0:\n",
    "        guess = int(input('put your guess number! 1 : 10 >>'))\n",
    "        \n",
    "        if correct(guess,correct_answer):\n",
    "            print('congratulation! you win')\n",
    "        else:\n",
    "            lives -= 1\n",
    "    \n",
    "    else:\n",
    "        print('Sorry you lost')\n",
    "    \n",
    "play_game(7,6)"
   ]
  },
  {
   "cell_type": "code",
   "execution_count": null,
   "id": "03ff10c3-c506-4dcb-a5e6-e60ba565c67c",
   "metadata": {},
   "outputs": [],
   "source": []
  }
 ],
 "metadata": {
  "kernelspec": {
   "display_name": "Python 3 (ipykernel)",
   "language": "python",
   "name": "python3"
  },
  "language_info": {
   "codemirror_mode": {
    "name": "ipython",
    "version": 3
   },
   "file_extension": ".py",
   "mimetype": "text/x-python",
   "name": "python",
   "nbconvert_exporter": "python",
   "pygments_lexer": "ipython3",
   "version": "3.10.9"
  }
 },
 "nbformat": 4,
 "nbformat_minor": 5
}
