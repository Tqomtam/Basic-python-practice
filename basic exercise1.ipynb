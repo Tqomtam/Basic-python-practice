{
 "cells": [
  {
   "cell_type": "code",
   "execution_count": 12,
   "id": "46fc9ecf-a53c-41ef-97a4-e11ab32b1aa9",
   "metadata": {},
   "outputs": [
    {
     "name": "stdout",
     "output_type": "stream",
     "text": [
      " today trip to the cinema will cost you 26.98 pound\n",
      " today trip to the cinema will cost you 34.97 pound\n"
     ]
    }
   ],
   "source": [
    "#Exercise1\n",
    "def tickets(amount,day,premium_seating):\n",
    "    if day == 3:\n",
    "        reduce_price = amount * 2.00\n",
    "    else:\n",
    "        reduce_price = 0\n",
    "    if premium_seating == True:\n",
    "        cost_extra = amount * 1.50\n",
    "    else:\n",
    "        cost_extra = 0\n",
    "    cost_tickets = (amount * 10.99) - reduce_price + cost_extra\n",
    "    return cost_tickets\n",
    "\n",
    "def refreshments(item = 'popcorn'):\n",
    "    if item == 'popcorn':\n",
    "        cost_refreshments = 2.00\n",
    "    else:\n",
    "        cost_refreshments = 3.5\n",
    "    return cost_refreshments\n",
    "\n",
    "def cinema_trip(amount,day,premium_seating,item):\n",
    "    return tickets(amount,day,premium_seating) + refreshments(item)\n",
    "\n",
    "persons = 2\n",
    "day = 1\n",
    "premium_seating = True\n",
    "treat = 'popcorn'\n",
    "total_cost = cinema_trip(persons,day,premium_seating,treat)\n",
    "print (f' today trip to the cinema will cost you {total_cost} pound')\n",
    "\n",
    "persons = 3\n",
    "day = 3\n",
    "premium_seating = True\n",
    "treat = 'fizzy pop'\n",
    "total_cost = cinema_trip(persons,day,premium_seating,treat)\n",
    "print (f' today trip to the cinema will cost you {total_cost} pound')\n",
    "\n"
   ]
  },
  {
   "cell_type": "code",
   "execution_count": 17,
   "id": "41a2520f-8ac3-44b1-abaa-30faabf1ece4",
   "metadata": {},
   "outputs": [
    {
     "name": "stdout",
     "output_type": "stream",
     "text": [
      "1\n",
      "FIZZ\n",
      "BUZZ\n",
      "FIZZBUZZ\n",
      "23\n",
      "1\n",
      "FIZZ\n",
      "BUZZ\n",
      "FIZZBUZZ\n",
      "23\n"
     ]
    }
   ],
   "source": [
    "#Excercise2\n",
    "def fizzbuzz(n):\n",
    "    if n % 3 == 0 and n % 5 == 0 :\n",
    "        print('FIZZBUZZ')\n",
    "    elif n % 3 == 0 :\n",
    "        print('FIZZ')\n",
    "    elif n % 5 == 0 :\n",
    "        print('BUZZ')\n",
    "    else:\n",
    "        print(n)\n",
    "        \n",
    "list = [1,3,5,15,23]\n",
    "for n in list:\n",
    "    fizzbuzz(n)\n",
    "    \n",
    "for index in range(len(list)):\n",
    "    fizzbuzz(list[index])"
   ]
  },
  {
   "cell_type": "code",
   "execution_count": 20,
   "id": "1e49d8d8-9573-4079-86bd-149c1de85a17",
   "metadata": {},
   "outputs": [
    {
     "name": "stdout",
     "output_type": "stream",
     "text": [
      "1000\n"
     ]
    }
   ],
   "source": [
    "#Loops Excercise1\n",
    "to_search = [0, 1000, 2, 999, 5, 100, 54]\n",
    "def find_max(list):\n",
    "    maxx = -1\n",
    "    for index in range(len(list)):\n",
    "        if list[index] > maxx:\n",
    "            maxx = list[index]\n",
    "        else:\n",
    "            maxx\n",
    "    return maxx\n",
    "  \n",
    "print(find_max(to_search))"
   ]
  },
  {
   "cell_type": "code",
   "execution_count": 22,
   "id": "0d8e5fa2-f6fa-4b79-b68a-b4fe52a9c819",
   "metadata": {},
   "outputs": [
    {
     "name": "stdout",
     "output_type": "stream",
     "text": [
      "1\n",
      "2\n",
      "FIZZ\n",
      "4\n",
      "BUZZ\n",
      "FIZZ\n",
      "7\n",
      "8\n",
      "FIZZ\n",
      "BUZZ\n",
      "11\n",
      "FIZZ\n",
      "13\n",
      "14\n",
      "FIZZBUZZ\n",
      "16\n",
      "17\n",
      "FIZZ\n",
      "19\n",
      "BUZZ\n",
      "FIZZ\n",
      "22\n",
      "23\n",
      "FIZZ\n",
      "BUZZ\n",
      "26\n",
      "FIZZ\n",
      "28\n",
      "29\n",
      "FIZZBUZZ\n",
      "31\n",
      "32\n",
      "FIZZ\n",
      "34\n",
      "BUZZ\n",
      "FIZZ\n",
      "37\n",
      "38\n",
      "FIZZ\n",
      "BUZZ\n",
      "41\n",
      "FIZZ\n",
      "43\n",
      "44\n",
      "FIZZBUZZ\n",
      "46\n",
      "47\n",
      "FIZZ\n",
      "49\n",
      "BUZZ\n",
      "FIZZ\n",
      "52\n",
      "53\n",
      "FIZZ\n",
      "BUZZ\n",
      "56\n",
      "FIZZ\n",
      "58\n",
      "59\n",
      "FIZZBUZZ\n",
      "61\n",
      "62\n",
      "FIZZ\n",
      "64\n",
      "BUZZ\n",
      "FIZZ\n",
      "67\n",
      "68\n",
      "FIZZ\n",
      "BUZZ\n",
      "71\n",
      "FIZZ\n",
      "73\n",
      "74\n",
      "FIZZBUZZ\n",
      "76\n",
      "77\n",
      "FIZZ\n",
      "79\n",
      "BUZZ\n",
      "FIZZ\n",
      "82\n",
      "83\n",
      "FIZZ\n",
      "BUZZ\n",
      "86\n",
      "FIZZ\n",
      "88\n",
      "89\n",
      "FIZZBUZZ\n",
      "91\n",
      "92\n",
      "FIZZ\n",
      "94\n",
      "BUZZ\n",
      "FIZZ\n",
      "97\n",
      "98\n",
      "FIZZ\n",
      "BUZZ\n"
     ]
    }
   ],
   "source": [
    "#Exercise2\n",
    "for n in range(1,101):\n",
    "    fizzbuzz(n)"
   ]
  },
  {
   "cell_type": "code",
   "execution_count": 34,
   "id": "c6ad374d-ba61-4208-8735-13f5cd76b17c",
   "metadata": {},
   "outputs": [
    {
     "name": "stdout",
     "output_type": "stream",
     "text": [
      "-127.89\n"
     ]
    }
   ],
   "source": [
    "#Exercise3 Net Present valuse\n",
    "cashflows = [-2000, 100, 100, 2600]\n",
    "\n",
    "def pres_val(future_val,rate,n):\n",
    "    pv = future_val / (1+(rate / 100)) ** n\n",
    "    return pv\n",
    "\n",
    "def net_pv(cashflows,rate):\n",
    "    all_pv = []\n",
    "    for index in range(len(cashflows)):\n",
    "        all_pv.append(pres_val(cashflows[index],rate,index))\n",
    "    return sum(all_pv)\n",
    "\n",
    "rate = 15\n",
    "NPV = net_pv(cashflows,rate)\n",
    "print(round(NPV,2))\n"
   ]
  },
  {
   "cell_type": "code",
   "execution_count": null,
   "id": "37c4c1d5-5da2-4bc3-a268-da86213741c3",
   "metadata": {},
   "outputs": [],
   "source": []
  }
 ],
 "metadata": {
  "kernelspec": {
   "display_name": "Python 3 (ipykernel)",
   "language": "python",
   "name": "python3"
  },
  "language_info": {
   "codemirror_mode": {
    "name": "ipython",
    "version": 3
   },
   "file_extension": ".py",
   "mimetype": "text/x-python",
   "name": "python",
   "nbconvert_exporter": "python",
   "pygments_lexer": "ipython3",
   "version": "3.10.9"
  }
 },
 "nbformat": 4,
 "nbformat_minor": 5
}
