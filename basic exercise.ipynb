{
 "cells": [
  {
   "cell_type": "code",
   "execution_count": 10,
   "id": "6c8ae1cb-888e-4915-a716-69259cb601b0",
   "metadata": {},
   "outputs": [
    {
     "data": {
      "text/plain": [
       "720"
      ]
     },
     "execution_count": 10,
     "metadata": {},
     "output_type": "execute_result"
    }
   ],
   "source": [
    "#exercise1\n",
    "import math\n",
    "math.factorial(6)"
   ]
  },
  {
   "cell_type": "code",
   "execution_count": 13,
   "id": "90362d1e-5b78-458a-b161-b777a17ffc31",
   "metadata": {},
   "outputs": [
    {
     "name": "stdout",
     "output_type": "stream",
     "text": [
      " factoriual(6) = 720\n"
     ]
    }
   ],
   "source": [
    "print(f' factoriual(6) = {6*5*4*3*2*1}')"
   ]
  },
  {
   "cell_type": "code",
   "execution_count": 14,
   "id": "54006790-ea5f-481c-a9c0-a4216b846b21",
   "metadata": {},
   "outputs": [
    {
     "name": "stdout",
     "output_type": "stream",
     "text": [
      " area of rectangular box is 24\n"
     ]
    }
   ],
   "source": [
    "#Exercise2\n",
    "width = 2\n",
    "height = 3\n",
    "depth = 4\n",
    "area = width * height * depth\n",
    "print(f' area of rectangular box is {area}')"
   ]
  },
  {
   "cell_type": "code",
   "execution_count": 16,
   "id": "961e74e9-87da-4206-a961-73db059d8366",
   "metadata": {},
   "outputs": [
    {
     "name": "stdout",
     "output_type": "stream",
     "text": [
      "Help on built-in function factorial in module math:\n",
      "\n",
      "factorial(x, /)\n",
      "    Find x!.\n",
      "    \n",
      "    Raise a ValueError if x is negative or non-integral.\n",
      "\n"
     ]
    },
    {
     "data": {
      "text/plain": [
       "720"
      ]
     },
     "execution_count": 16,
     "metadata": {},
     "output_type": "execute_result"
    }
   ],
   "source": [
    "#Exercise3\n",
    "import math\n",
    "help(math.factorial)\n",
    "math.factorial(6)"
   ]
  },
  {
   "cell_type": "code",
   "execution_count": 27,
   "id": "b35dcf58-96dd-44aa-a62a-394a3f7ab02d",
   "metadata": {},
   "outputs": [
    {
     "name": "stdout",
     "output_type": "stream",
     "text": [
      " 20 degree fahrenheit is equal to -6.67 degree celsius\n",
      " 100 degree fahrenheit is equal to 37.78 degree celsius\n"
     ]
    }
   ],
   "source": [
    "#Exercise4\n",
    "def convert_fahrenheit_to_celsius(deg_fahrenheit):\n",
    "    deg_celsius = (deg_fahrenheit - 32) / (9.0/5.0)\n",
    "    return deg_celsius\n",
    "#Test data\n",
    "fahrenheit = 20\n",
    "deg_celsius = convert_fahrenheit_to_celsius(fahrenheit)\n",
    "print(f' {fahrenheit} degree fahrenheit is equal to {round(deg_celsius,2)} degree celsius')\n",
    "\n",
    "fahrenheit = 100\n",
    "deg_celsius = convert_fahrenheit_to_celsius(fahrenheit)\n",
    "print(f' {fahrenheit} degree fahrenheit is equal to {round(deg_celsius,2)} degree celsius')"
   ]
  },
  {
   "cell_type": "code",
   "execution_count": 32,
   "id": "fa684ec1-e855-479a-92fd-8255593af59e",
   "metadata": {},
   "outputs": [
    {
     "name": "stdout",
     "output_type": "stream",
     "text": [
      " velocity is 2.0 m/s when distance travelled is 10 m and time taken is 5 seconds\n",
      " velocity is 833.33 m/s when distance travelled is 100 m and time taken is 0.12 seconds\n"
     ]
    }
   ],
   "source": [
    "#Exercise5\n",
    "def velocity(distance,time):\n",
    "    velocity = distance / time\n",
    "    return velocity\n",
    "\n",
    "#Test data\n",
    "distance = 10 #m\n",
    "time = 5 #second\n",
    "result = velocity(distance,time)\n",
    "print(f' velocity is {result} m/s when distance travelled is {distance} m and time taken is {time} seconds')\n",
    "\n",
    "distance = 100 #m\n",
    "time = 0.12 #second\n",
    "result = velocity(distance,time)\n",
    "print(f' velocity is {round(result,2)} m/s when distance travelled is {distance} m and time taken is {time} seconds')"
   ]
  },
  {
   "cell_type": "code",
   "execution_count": 49,
   "id": "ebc721f7-5ad2-4e31-b96e-c8939876f458",
   "metadata": {},
   "outputs": [
    {
     "name": "stdout",
     "output_type": "stream",
     "text": [
      "['Iron-man', 'Captain America']\n",
      "['Captain America', 'Spider-man', 'Thor']\n",
      "['Thor', 'Deathpool']\n",
      "['Iron-man', 'Captain America', 'Spider-man', 'Thor', 'Deathpool', 'Doctor Strange']\n",
      "['Iron-man', 'Captain America', 'Spider-man', 'Thor', 'Headpool', 'Deathpool', 'Doctor Strange']\n",
      "['Captain America', 'Spider-man', 'Thor', 'Headpool', 'Deathpool', 'Doctor Strange']\n"
     ]
    }
   ],
   "source": [
    "#Exercise6\n",
    "comics = ['Iron-man', 'Captain America', 'Spider-man', 'Thor', 'Deathpool']\n",
    "print(comics[0:2])\n",
    "print(comics[1:4])\n",
    "print(comics[3:5])\n",
    "comics.append('Doctor Strange')\n",
    "print(comics)\n",
    "comics.insert(4,'Headpool')\n",
    "print(comics)\n",
    "del comics[0]\n",
    "print(comics)\n",
    "comics.remove('Headpool')"
   ]
  },
  {
   "cell_type": "code",
   "execution_count": null,
   "id": "d3c2dc23-aa00-45f9-b8c2-0bafaa8c1cc7",
   "metadata": {},
   "outputs": [],
   "source": []
  }
 ],
 "metadata": {
  "kernelspec": {
   "display_name": "Python 3 (ipykernel)",
   "language": "python",
   "name": "python3"
  },
  "language_info": {
   "codemirror_mode": {
    "name": "ipython",
    "version": 3
   },
   "file_extension": ".py",
   "mimetype": "text/x-python",
   "name": "python",
   "nbconvert_exporter": "python",
   "pygments_lexer": "ipython3",
   "version": "3.10.9"
  }
 },
 "nbformat": 4,
 "nbformat_minor": 5
}
