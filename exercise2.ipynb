{
 "cells": [
  {
   "cell_type": "code",
   "execution_count": 66,
   "id": "5d53e2b0-f7ce-4d36-9a9e-5358ef00a82a",
   "metadata": {},
   "outputs": [
    {
     "name": "stdout",
     "output_type": "stream",
     "text": [
      "1\n"
     ]
    }
   ],
   "source": [
    "#Exercise2. : The FizzBuzz game\n",
    "def fizzbuzz(n):\n",
    "    if n % 3 == 0 and n % 5 == 0:\n",
    "        print('FIZZBUZZ')\n",
    "    elif n % 5 == 0:\n",
    "        print('BUZZ')\n",
    "    elif n % 3 == 0:\n",
    "        print('FIZZ')\n",
    "    else:\n",
    "        print(n)\n",
    "        \n",
    "fizzbuzz(1)"
   ]
  },
  {
   "cell_type": "code",
   "execution_count": 32,
   "id": "f21618e1-1276-4154-8801-579c78beb043",
   "metadata": {},
   "outputs": [],
   "source": [
    "#for loop\n",
    "def square_list_item(to_square):\n",
    "    result_list = []\n",
    "    for index in range(len(to_square)):\n",
    "        result_list.append(to_square[index]**2)\n",
    "    return result_list\n",
    "\n"
   ]
  },
  {
   "cell_type": "code",
   "execution_count": 42,
   "id": "17efe812-675f-405b-bda9-1c9b01f5580e",
   "metadata": {},
   "outputs": [
    {
     "name": "stdout",
     "output_type": "stream",
     "text": [
      "False\n",
      "True\n"
     ]
    },
    {
     "name": "stdin",
     "output_type": "stream",
     "text": [
      "Please guess a whole number between 1 and 10: >> 5\n"
     ]
    },
    {
     "name": "stdout",
     "output_type": "stream",
     "text": [
      "Well done you guessed correctly!\n"
     ]
    }
   ],
   "source": [
    "def guessed_correctly(guess, correct_answer):\n",
    "    '''\n",
    "    Returns True or False to indicate if user has guessed correctly.\n",
    "    \n",
    "    Keyword arguments:\n",
    "    guess -- user's guess\n",
    "    correct_answer -- the answer that needs to be guessed!\n",
    "    '''\n",
    "    return guess == correct_answer\n",
    "    \n",
    "\n",
    "def play_game(correct_answer):\n",
    "    '''\n",
    "    A game to guess a integer number (between 1 and 10).\n",
    "    Re-prompts user for guess until correct one is supplied.\n",
    "    \n",
    "    Keyword arguments:\n",
    "    correct_answer -- specified by user\n",
    "    '''\n",
    "    guess = -1\n",
    "\n",
    "    while not guessed_correctly(guess, correct_answer):\n",
    "        guess = int(input(\"Please guess a whole number between 1 and 10: >>\"))\n",
    "    \n",
    "    print(\"Well done you guessed correctly!\")\n",
    "\n",
    "\n",
    "#a test: this returns false because the user guessed incorrectly\n",
    "result = guessed_correctly(guess=5, correct_answer=10) \n",
    "print(result)\n",
    "\n",
    "#a test: this returns true because the user guessed correctly\n",
    "result2 = guessed_correctly(guess=10, correct_answer=10) \n",
    "print(result2)\n",
    "\n",
    "#rather than repeatedly calling guessed_correctly we have created a loop.\n",
    "#while guessed_correctly returns false \n",
    "#we continue to re-prompt the user for another guess.\n",
    "play_game(5)"
   ]
  },
  {
   "cell_type": "code",
   "execution_count": 43,
   "id": "d3a2832e-8017-4a21-baf9-a983f203036a",
   "metadata": {},
   "outputs": [
    {
     "name": "stdin",
     "output_type": "stream",
     "text": [
      "Please guess a whole number between 1 and 10: >> 1\n",
      "Please guess a whole number between 1 and 10: >> 2\n",
      "Please guess a whole number between 1 and 10: >> 3\n"
     ]
    },
    {
     "name": "stdout",
     "output_type": "stream",
     "text": [
      "Sorry no lives left - you lose!\n"
     ]
    }
   ],
   "source": [
    "def play_game(correct_answer, lives=3):\n",
    "    '''\n",
    "    A game to guess a integer number (between 1 and 10).\n",
    "    Re-prompts user for guess until correct one is supplied.\n",
    "    \n",
    "    Keyword arguments:\n",
    "    correct_answer -- specified by user\n",
    "    lives -- the number of guesses a user is allowed to \n",
    "    make before they lose the game (default = 3)\n",
    "    '''\n",
    "    \n",
    "    guess = -1\n",
    "    \n",
    "    while lives > 0:\n",
    "        \n",
    "        guess = int(input(\"Please guess a whole number between 1 and 10: >>\"))\n",
    "        \n",
    "        if guessed_correctly(guess, correct_answer):\n",
    "            print(\"Well done you guessed correctly!\")\n",
    "            break # you win! no need to continue! break the loop\n",
    "            \n",
    "        else:\n",
    "            lives -= 1\n",
    "            \n",
    "    else:\n",
    "        #code executed becasue lives > 0 = False\n",
    "        print('Sorry no lives left - you lose!') \n",
    "               \n",
    "        \n",
    "play_game(10)"
   ]
  },
  {
   "cell_type": "code",
   "execution_count": 63,
   "id": "a35db4b7-6820-4000-a618-6996b2de027c",
   "metadata": {},
   "outputs": [
    {
     "name": "stdout",
     "output_type": "stream",
     "text": [
      "7777\n"
     ]
    }
   ],
   "source": [
    "to_search = [0, 1000, 2, 999, 5, 100, 4,7777,1234]\n",
    "def find_max(to_search):\n",
    "    current_max = -1\n",
    "    for item in to_search:\n",
    "        if item > current_max:\n",
    "            current_max = item\n",
    "        else:\n",
    "            current_max\n",
    "    return current_max\n",
    "\n",
    "print(find_max(to_search))"
   ]
  },
  {
   "cell_type": "code",
   "execution_count": 68,
   "id": "0a0e0b86-0c23-4443-b7e0-ef137c2e5668",
   "metadata": {},
   "outputs": [
    {
     "name": "stdout",
     "output_type": "stream",
     "text": [
      "1\n",
      "2\n",
      "FIZZ\n",
      "4\n",
      "BUZZ\n",
      "FIZZ\n",
      "7\n",
      "8\n",
      "FIZZ\n",
      "BUZZ\n",
      "11\n",
      "FIZZ\n",
      "13\n",
      "14\n",
      "FIZZBUZZ\n",
      "16\n",
      "17\n",
      "FIZZ\n",
      "19\n",
      "BUZZ\n",
      "FIZZ\n",
      "22\n",
      "23\n",
      "FIZZ\n",
      "BUZZ\n",
      "26\n",
      "FIZZ\n",
      "28\n",
      "29\n",
      "FIZZBUZZ\n",
      "31\n",
      "32\n",
      "FIZZ\n",
      "34\n",
      "BUZZ\n",
      "FIZZ\n",
      "37\n",
      "38\n",
      "FIZZ\n",
      "BUZZ\n",
      "41\n",
      "FIZZ\n",
      "43\n",
      "44\n",
      "FIZZBUZZ\n",
      "46\n",
      "47\n",
      "FIZZ\n",
      "49\n",
      "BUZZ\n",
      "FIZZ\n",
      "52\n",
      "53\n",
      "FIZZ\n",
      "BUZZ\n",
      "56\n",
      "FIZZ\n",
      "58\n",
      "59\n",
      "FIZZBUZZ\n",
      "61\n",
      "62\n",
      "FIZZ\n",
      "64\n",
      "BUZZ\n",
      "FIZZ\n",
      "67\n",
      "68\n",
      "FIZZ\n",
      "BUZZ\n",
      "71\n",
      "FIZZ\n",
      "73\n",
      "74\n",
      "FIZZBUZZ\n",
      "76\n",
      "77\n",
      "FIZZ\n",
      "79\n",
      "BUZZ\n",
      "FIZZ\n",
      "82\n",
      "83\n",
      "FIZZ\n",
      "BUZZ\n",
      "86\n",
      "FIZZ\n",
      "88\n",
      "89\n",
      "FIZZBUZZ\n",
      "91\n",
      "92\n",
      "FIZZ\n",
      "94\n",
      "BUZZ\n",
      "FIZZ\n",
      "97\n",
      "98\n",
      "FIZZ\n",
      "BUZZ\n"
     ]
    }
   ],
   "source": [
    "limit = 100\n",
    "for n in range(1,limit+1):\n",
    "    fizzbuzz(n)"
   ]
  },
  {
   "cell_type": "code",
   "execution_count": 87,
   "id": "7ac0fbf6-f127-40d0-b28c-c1b17345c880",
   "metadata": {},
   "outputs": [
    {
     "name": "stdout",
     "output_type": "stream",
     "text": [
      "126.97\n"
     ]
    }
   ],
   "source": [
    "def pv(fuv,rate,n):\n",
    "    return fuv / (1 + (rate/100)) ** n\n",
    "def npv(cashflow,rate):\n",
    "    pres_val = []\n",
    "    for index in range(len(cashflow)):\n",
    "        pres_val.append(pv(cashflow[index],rate,index))\n",
    "    return sum(pres_val)  \n",
    "\n",
    "cashflow = [-2000, 100, 100, 2600]\n",
    "rate = 10\n",
    "NPV = npv(cashflow,rate)\n",
    "print(round(NPV,2))"
   ]
  },
  {
   "cell_type": "code",
   "execution_count": null,
   "id": "fefbf4df-a97b-4919-b89b-19fe43c275ca",
   "metadata": {},
   "outputs": [],
   "source": []
  }
 ],
 "metadata": {
  "kernelspec": {
   "display_name": "Python 3 (ipykernel)",
   "language": "python",
   "name": "python3"
  },
  "language_info": {
   "codemirror_mode": {
    "name": "ipython",
    "version": 3
   },
   "file_extension": ".py",
   "mimetype": "text/x-python",
   "name": "python",
   "nbconvert_exporter": "python",
   "pygments_lexer": "ipython3",
   "version": "3.10.9"
  }
 },
 "nbformat": 4,
 "nbformat_minor": 5
}
